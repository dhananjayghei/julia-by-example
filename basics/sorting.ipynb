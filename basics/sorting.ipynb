{
 "cells": [
  {
   "cell_type": "markdown",
   "metadata": {},
   "source": [
    "## Sorting"
   ]
  },
  {
   "cell_type": "code",
   "execution_count": 1,
   "metadata": {},
   "outputs": [
    {
     "name": "stdout",
     "output_type": "stream",
     "text": [
      "Julia Version 1.0.5\n",
      "Commit 3af96bcefc (2019-09-09 19:06 UTC)\n",
      "Platform Info:\n",
      "  OS: Linux (x86_64-pc-linux-gnu)\n",
      "  CPU: Intel(R) Core(TM) i7-8650U CPU @ 1.90GHz\n",
      "  WORD_SIZE: 64\n",
      "  LIBM: libopenlibm\n",
      "  LLVM: libLLVM-6.0.0 (ORCJIT, skylake)\n"
     ]
    }
   ],
   "source": [
    "versioninfo()"
   ]
  },
  {
   "cell_type": "code",
   "execution_count": 2,
   "metadata": {},
   "outputs": [],
   "source": [
    "# Loading the required libraries\n",
    "using DataFrames"
   ]
  },
  {
   "cell_type": "code",
   "execution_count": 3,
   "metadata": {},
   "outputs": [
    {
     "data": {
      "text/plain": [
       "6-element Array{Int64,1}:\n",
       " 1\n",
       " 3\n",
       " 5\n",
       " 2\n",
       " 1\n",
       " 4"
      ]
     },
     "execution_count": 3,
     "metadata": {},
     "output_type": "execute_result"
    }
   ],
   "source": [
    "# Load some data\n",
    "x = [1,3,5,2,1,4]"
   ]
  },
  {
   "cell_type": "code",
   "execution_count": 5,
   "metadata": {},
   "outputs": [
    {
     "name": "stdout",
     "output_type": "stream",
     "text": [
      "search: \u001b[0m\u001b[1ms\u001b[22m\u001b[0m\u001b[1mo\u001b[22m\u001b[0m\u001b[1mr\u001b[22m\u001b[0m\u001b[1mt\u001b[22m\u001b[0m\u001b[1mp\u001b[22m\u001b[0m\u001b[1me\u001b[22m\u001b[0m\u001b[1mr\u001b[22m\u001b[0m\u001b[1mm\u001b[22m \u001b[0m\u001b[1ms\u001b[22m\u001b[0m\u001b[1mo\u001b[22m\u001b[0m\u001b[1mr\u001b[22m\u001b[0m\u001b[1mt\u001b[22m\u001b[0m\u001b[1mp\u001b[22m\u001b[0m\u001b[1me\u001b[22m\u001b[0m\u001b[1mr\u001b[22m\u001b[0m\u001b[1mm\u001b[22m! partial\u001b[0m\u001b[1ms\u001b[22m\u001b[0m\u001b[1mo\u001b[22m\u001b[0m\u001b[1mr\u001b[22m\u001b[0m\u001b[1mt\u001b[22m\u001b[0m\u001b[1mp\u001b[22m\u001b[0m\u001b[1me\u001b[22m\u001b[0m\u001b[1mr\u001b[22m\u001b[0m\u001b[1mm\u001b[22m partial\u001b[0m\u001b[1ms\u001b[22m\u001b[0m\u001b[1mo\u001b[22m\u001b[0m\u001b[1mr\u001b[22m\u001b[0m\u001b[1mt\u001b[22m\u001b[0m\u001b[1mp\u001b[22m\u001b[0m\u001b[1me\u001b[22m\u001b[0m\u001b[1mr\u001b[22m\u001b[0m\u001b[1mm\u001b[22m! i\u001b[0m\u001b[1ms\u001b[22mc\u001b[0m\u001b[1mo\u001b[22mnc\u001b[0m\u001b[1mr\u001b[22me\u001b[0m\u001b[1mt\u001b[22mety\u001b[0m\u001b[1mp\u001b[22m\u001b[0m\u001b[1me\u001b[22m\n",
      "\n"
     ]
    },
    {
     "data": {
      "text/latex": [
       "\\begin{verbatim}\n",
       "sortperm(v; alg::Algorithm=DEFAULT_UNSTABLE, lt=isless, by=identity, rev::Bool=false, order::Ordering=Forward)\n",
       "\\end{verbatim}\n",
       "Return a permutation vector \\texttt{I} that puts \\texttt{v[I]} in sorted order. The order is specified using the same keywords as \\texttt{sort!}. The permutation is guaranteed to be stable even if the sorting algorithm is unstable, meaning that indices of equal elements appear in ascending order.\n",
       "\n",
       "See also \\href{@ref}{\\texttt{sortperm!}}.\n",
       "\n",
       "\\section{Examples}\n",
       "\\begin{verbatim}\n",
       "julia> v = [3, 1, 2];\n",
       "\n",
       "julia> p = sortperm(v)\n",
       "3-element Array{Int64,1}:\n",
       " 2\n",
       " 3\n",
       " 1\n",
       "\n",
       "julia> v[p]\n",
       "3-element Array{Int64,1}:\n",
       " 1\n",
       " 2\n",
       " 3\n",
       "\\end{verbatim}\n",
       "\\rule{\\textwidth}{1pt}\n",
       "\\begin{verbatim}\n",
       "sortperm(df::AbstractDataFrame, cols;\n",
       "         alg::Union{Algorithm, Nothing}=nothing, lt=isless, by=identity,\n",
       "         rev::Bool=false, order::Ordering=Forward)\n",
       "\\end{verbatim}\n",
       "Return a permutation vector of row indices of data frame \\texttt{df} that puts them in sorted order according to column(s) \\texttt{cols}.\n",
       "\n",
       "\\texttt{cols} can be any column selector (\\texttt{Symbol}, string or integer; \\texttt{:}, \\texttt{All}, \\texttt{Between}, \\texttt{Not}, a regular expression, or a vector of \\texttt{Symbol}s, strings or integers).\n",
       "\n",
       "If \\texttt{alg} is \\texttt{nothing} (the default), the most appropriate algorithm is chosen automatically among \\texttt{TimSort}, \\texttt{MergeSort} and \\texttt{RadixSort} depending on the type of the sorting columns and on the number of rows in \\texttt{df}. If \\texttt{rev} is \\texttt{true}, reverse sorting is performed. To enable reverse sorting only for some columns, pass \\texttt{order(c, rev=true)} in \\texttt{cols}, with \\texttt{c} the corresponding column index (see example below). See other methods for a description of other keyword arguments.\n",
       "\n",
       "\\section{Examples}\n",
       "\\begin{verbatim}\n",
       "julia> df = DataFrame(x = [3, 1, 2, 1], y = [\"b\", \"c\", \"a\", \"b\"])\n",
       "4×2 DataFrame\n",
       "│ Row │ x     │ y      │\n",
       "│     │ Int64 │ String │\n",
       "├─────┼───────┼────────┤\n",
       "│ 1   │ 3     │ b      │\n",
       "│ 2   │ 1     │ c      │\n",
       "│ 3   │ 2     │ a      │\n",
       "│ 4   │ 1     │ b      │\n",
       "\n",
       "julia> sortperm(df, :x)\n",
       "4-element Array{Int64,1}:\n",
       " 2\n",
       " 4\n",
       " 3\n",
       " 1\n",
       "\n",
       "julia> sortperm(df, (:x, :y))\n",
       "4-element Array{Int64,1}:\n",
       " 4\n",
       " 2\n",
       " 3\n",
       " 1\n",
       "\n",
       "julia> sortperm(df, (:x, :y), rev=true)\n",
       "4-element Array{Int64,1}:\n",
       " 1\n",
       " 3\n",
       " 2\n",
       " 4\n",
       "\n",
       " julia> sortperm(df, (:x, order(:y, rev=true)))\n",
       " 4-element Array{Int64,1}:\n",
       "  2\n",
       "  4\n",
       "  3\n",
       "  1\n",
       "\\end{verbatim}\n"
      ],
      "text/markdown": [
       "```\n",
       "sortperm(v; alg::Algorithm=DEFAULT_UNSTABLE, lt=isless, by=identity, rev::Bool=false, order::Ordering=Forward)\n",
       "```\n",
       "\n",
       "Return a permutation vector `I` that puts `v[I]` in sorted order. The order is specified using the same keywords as `sort!`. The permutation is guaranteed to be stable even if the sorting algorithm is unstable, meaning that indices of equal elements appear in ascending order.\n",
       "\n",
       "See also [`sortperm!`](@ref).\n",
       "\n",
       "# Examples\n",
       "\n",
       "```jldoctest\n",
       "julia> v = [3, 1, 2];\n",
       "\n",
       "julia> p = sortperm(v)\n",
       "3-element Array{Int64,1}:\n",
       " 2\n",
       " 3\n",
       " 1\n",
       "\n",
       "julia> v[p]\n",
       "3-element Array{Int64,1}:\n",
       " 1\n",
       " 2\n",
       " 3\n",
       "```\n",
       "\n",
       "---\n",
       "\n",
       "```\n",
       "sortperm(df::AbstractDataFrame, cols;\n",
       "         alg::Union{Algorithm, Nothing}=nothing, lt=isless, by=identity,\n",
       "         rev::Bool=false, order::Ordering=Forward)\n",
       "```\n",
       "\n",
       "Return a permutation vector of row indices of data frame `df` that puts them in sorted order according to column(s) `cols`.\n",
       "\n",
       "`cols` can be any column selector (`Symbol`, string or integer; `:`, `All`, `Between`, `Not`, a regular expression, or a vector of `Symbol`s, strings or integers).\n",
       "\n",
       "If `alg` is `nothing` (the default), the most appropriate algorithm is chosen automatically among `TimSort`, `MergeSort` and `RadixSort` depending on the type of the sorting columns and on the number of rows in `df`. If `rev` is `true`, reverse sorting is performed. To enable reverse sorting only for some columns, pass `order(c, rev=true)` in `cols`, with `c` the corresponding column index (see example below). See other methods for a description of other keyword arguments.\n",
       "\n",
       "# Examples\n",
       "\n",
       "```jldoctest\n",
       "julia> df = DataFrame(x = [3, 1, 2, 1], y = [\"b\", \"c\", \"a\", \"b\"])\n",
       "4×2 DataFrame\n",
       "│ Row │ x     │ y      │\n",
       "│     │ Int64 │ String │\n",
       "├─────┼───────┼────────┤\n",
       "│ 1   │ 3     │ b      │\n",
       "│ 2   │ 1     │ c      │\n",
       "│ 3   │ 2     │ a      │\n",
       "│ 4   │ 1     │ b      │\n",
       "\n",
       "julia> sortperm(df, :x)\n",
       "4-element Array{Int64,1}:\n",
       " 2\n",
       " 4\n",
       " 3\n",
       " 1\n",
       "\n",
       "julia> sortperm(df, (:x, :y))\n",
       "4-element Array{Int64,1}:\n",
       " 4\n",
       " 2\n",
       " 3\n",
       " 1\n",
       "\n",
       "julia> sortperm(df, (:x, :y), rev=true)\n",
       "4-element Array{Int64,1}:\n",
       " 1\n",
       " 3\n",
       " 2\n",
       " 4\n",
       "\n",
       " julia> sortperm(df, (:x, order(:y, rev=true)))\n",
       " 4-element Array{Int64,1}:\n",
       "  2\n",
       "  4\n",
       "  3\n",
       "  1\n",
       "```\n"
      ],
      "text/plain": [
       "\u001b[36m  sortperm(v; alg::Algorithm=DEFAULT_UNSTABLE, lt=isless, by=identity, rev::Bool=false, order::Ordering=Forward)\u001b[39m\n",
       "\n",
       "  Return a permutation vector \u001b[36mI\u001b[39m that puts \u001b[36mv[I]\u001b[39m in sorted order. The order is\n",
       "  specified using the same keywords as \u001b[36msort!\u001b[39m. The permutation is guaranteed to\n",
       "  be stable even if the sorting algorithm is unstable, meaning that indices of\n",
       "  equal elements appear in ascending order.\n",
       "\n",
       "  See also \u001b[36msortperm!\u001b[39m.\n",
       "\n",
       "\u001b[1m  Examples\u001b[22m\n",
       "\u001b[1m  ≡≡≡≡≡≡≡≡≡≡\u001b[22m\n",
       "\n",
       "\u001b[36m  julia> v = [3, 1, 2];\u001b[39m\n",
       "\u001b[36m  \u001b[39m\n",
       "\u001b[36m  julia> p = sortperm(v)\u001b[39m\n",
       "\u001b[36m  3-element Array{Int64,1}:\u001b[39m\n",
       "\u001b[36m   2\u001b[39m\n",
       "\u001b[36m   3\u001b[39m\n",
       "\u001b[36m   1\u001b[39m\n",
       "\u001b[36m  \u001b[39m\n",
       "\u001b[36m  julia> v[p]\u001b[39m\n",
       "\u001b[36m  3-element Array{Int64,1}:\u001b[39m\n",
       "\u001b[36m   1\u001b[39m\n",
       "\u001b[36m   2\u001b[39m\n",
       "\u001b[36m   3\u001b[39m\n",
       "\n",
       "  ────────────────────────────────────────────────────────────────────────────\n",
       "\n",
       "\u001b[36m  sortperm(df::AbstractDataFrame, cols;\u001b[39m\n",
       "\u001b[36m           alg::Union{Algorithm, Nothing}=nothing, lt=isless, by=identity,\u001b[39m\n",
       "\u001b[36m           rev::Bool=false, order::Ordering=Forward)\u001b[39m\n",
       "\n",
       "  Return a permutation vector of row indices of data frame \u001b[36mdf\u001b[39m that puts them\n",
       "  in sorted order according to column(s) \u001b[36mcols\u001b[39m.\n",
       "\n",
       "  \u001b[36mcols\u001b[39m can be any column selector (\u001b[36mSymbol\u001b[39m, string or integer; \u001b[36m:\u001b[39m, \u001b[36mAll\u001b[39m, \u001b[36mBetween\u001b[39m,\n",
       "  \u001b[36mNot\u001b[39m, a regular expression, or a vector of \u001b[36mSymbol\u001b[39ms, strings or integers).\n",
       "\n",
       "  If \u001b[36malg\u001b[39m is \u001b[36mnothing\u001b[39m (the default), the most appropriate algorithm is chosen\n",
       "  automatically among \u001b[36mTimSort\u001b[39m, \u001b[36mMergeSort\u001b[39m and \u001b[36mRadixSort\u001b[39m depending on the type\n",
       "  of the sorting columns and on the number of rows in \u001b[36mdf\u001b[39m. If \u001b[36mrev\u001b[39m is \u001b[36mtrue\u001b[39m,\n",
       "  reverse sorting is performed. To enable reverse sorting only for some\n",
       "  columns, pass \u001b[36morder(c, rev=true)\u001b[39m in \u001b[36mcols\u001b[39m, with \u001b[36mc\u001b[39m the corresponding column\n",
       "  index (see example below). See other methods for a description of other\n",
       "  keyword arguments.\n",
       "\n",
       "\u001b[1m  Examples\u001b[22m\n",
       "\u001b[1m  ≡≡≡≡≡≡≡≡≡≡\u001b[22m\n",
       "\n",
       "\u001b[36m  julia> df = DataFrame(x = [3, 1, 2, 1], y = [\"b\", \"c\", \"a\", \"b\"])\u001b[39m\n",
       "\u001b[36m  4×2 DataFrame\u001b[39m\n",
       "\u001b[36m  │ Row │ x     │ y      │\u001b[39m\n",
       "\u001b[36m  │     │ Int64 │ String │\u001b[39m\n",
       "\u001b[36m  ├─────┼───────┼────────┤\u001b[39m\n",
       "\u001b[36m  │ 1   │ 3     │ b      │\u001b[39m\n",
       "\u001b[36m  │ 2   │ 1     │ c      │\u001b[39m\n",
       "\u001b[36m  │ 3   │ 2     │ a      │\u001b[39m\n",
       "\u001b[36m  │ 4   │ 1     │ b      │\u001b[39m\n",
       "\u001b[36m  \u001b[39m\n",
       "\u001b[36m  julia> sortperm(df, :x)\u001b[39m\n",
       "\u001b[36m  4-element Array{Int64,1}:\u001b[39m\n",
       "\u001b[36m   2\u001b[39m\n",
       "\u001b[36m   4\u001b[39m\n",
       "\u001b[36m   3\u001b[39m\n",
       "\u001b[36m   1\u001b[39m\n",
       "\u001b[36m  \u001b[39m\n",
       "\u001b[36m  julia> sortperm(df, (:x, :y))\u001b[39m\n",
       "\u001b[36m  4-element Array{Int64,1}:\u001b[39m\n",
       "\u001b[36m   4\u001b[39m\n",
       "\u001b[36m   2\u001b[39m\n",
       "\u001b[36m   3\u001b[39m\n",
       "\u001b[36m   1\u001b[39m\n",
       "\u001b[36m  \u001b[39m\n",
       "\u001b[36m  julia> sortperm(df, (:x, :y), rev=true)\u001b[39m\n",
       "\u001b[36m  4-element Array{Int64,1}:\u001b[39m\n",
       "\u001b[36m   1\u001b[39m\n",
       "\u001b[36m   3\u001b[39m\n",
       "\u001b[36m   2\u001b[39m\n",
       "\u001b[36m   4\u001b[39m\n",
       "\u001b[36m  \u001b[39m\n",
       "\u001b[36m   julia> sortperm(df, (:x, order(:y, rev=true)))\u001b[39m\n",
       "\u001b[36m   4-element Array{Int64,1}:\u001b[39m\n",
       "\u001b[36m    2\u001b[39m\n",
       "\u001b[36m    4\u001b[39m\n",
       "\u001b[36m    3\u001b[39m\n",
       "\u001b[36m    1\u001b[39m"
      ]
     },
     "execution_count": 5,
     "metadata": {},
     "output_type": "execute_result"
    }
   ],
   "source": [
    "?sortperm"
   ]
  },
  {
   "cell_type": "code",
   "execution_count": 9,
   "metadata": {},
   "outputs": [
    {
     "name": "stdout",
     "output_type": "stream",
     "text": [
      "sorted_x = [1, 1, 2, 3, 4, 5]\n"
     ]
    }
   ],
   "source": [
    "# sortperm returns the permutation vector of rows\n",
    "idx = sortperm(x)\n",
    "# You can sort them using the permutation vector as follows:\n",
    "sorted_x = x[idx]\n",
    "@show sorted_x;"
   ]
  },
  {
   "cell_type": "code",
   "execution_count": 10,
   "metadata": {},
   "outputs": [
    {
     "name": "stdout",
     "output_type": "stream",
     "text": [
      "decreasing_x = [5, 4, 3, 2, 1, 1]\n"
     ]
    }
   ],
   "source": [
    "# You can also sort in descending order with the rev argument\n",
    "idxD = sortperm(x, rev=true)\n",
    "decreasing_x = x[idxD]\n",
    "@show decreasing_x;"
   ]
  },
  {
   "cell_type": "code",
   "execution_count": 19,
   "metadata": {},
   "outputs": [
    {
     "name": "stdout",
     "output_type": "stream",
     "text": [
      "dat = DataFrame(X=[1, 2, 3, 1], Y=[7, 19, 2, 2]) = 4×2 DataFrame\n",
      "│ Row │ X     │ Y     │\n",
      "│     │ Int64 │ Int64 │\n",
      "├─────┼───────┼───────┤\n",
      "│ 1   │ 1     │ 7     │\n",
      "│ 2   │ 2     │ 19    │\n",
      "│ 3   │ 3     │ 2     │\n",
      "│ 4   │ 1     │ 2     │\n",
      "dat = dat[idxX, :] = 4×2 DataFrame\n",
      "│ Row │ X     │ Y     │\n",
      "│     │ Int64 │ Int64 │\n",
      "├─────┼───────┼───────┤\n",
      "│ 1   │ 1     │ 7     │\n",
      "│ 2   │ 1     │ 2     │\n",
      "│ 3   │ 2     │ 19    │\n",
      "│ 4   │ 3     │ 2     │\n",
      "dat = dat[sortperm(dat, :X), :] = 4×2 DataFrame\n",
      "│ Row │ X     │ Y     │\n",
      "│     │ Int64 │ Int64 │\n",
      "├─────┼───────┼───────┤\n",
      "│ 1   │ 1     │ 7     │\n",
      "│ 2   │ 1     │ 2     │\n",
      "│ 3   │ 2     │ 19    │\n",
      "│ 4   │ 3     │ 2     │\n"
     ]
    }
   ],
   "source": [
    "# Sorting a DataFrame\n",
    "@show dat = DataFrame(X = [1,2,3,1], Y = [7,19,2,2])\n",
    "# Sort on X\n",
    "idxX = sortperm(dat[!,:X])\n",
    "@show dat = dat[idxX, :]\n",
    "# Alternatively, \n",
    "@show dat = dat[sortperm(dat, :X), :];"
   ]
  },
  {
   "cell_type": "code",
   "execution_count": 20,
   "metadata": {},
   "outputs": [
    {
     "data": {
      "text/html": [
       "<table class=\"data-frame\"><thead><tr><th></th><th>X</th><th>Y</th></tr><tr><th></th><th>Int64</th><th>Int64</th></tr></thead><tbody><p>4 rows × 2 columns</p><tr><th>1</th><td>2</td><td>19</td></tr><tr><th>2</th><td>1</td><td>7</td></tr><tr><th>3</th><td>1</td><td>2</td></tr><tr><th>4</th><td>3</td><td>2</td></tr></tbody></table>"
      ],
      "text/latex": [
       "\\begin{tabular}{r|cc}\n",
       "\t& X & Y\\\\\n",
       "\t\\hline\n",
       "\t& Int64 & Int64\\\\\n",
       "\t\\hline\n",
       "\t1 & 2 & 19 \\\\\n",
       "\t2 & 1 & 7 \\\\\n",
       "\t3 & 1 & 2 \\\\\n",
       "\t4 & 3 & 2 \\\\\n",
       "\\end{tabular}\n"
      ],
      "text/plain": [
       "4×2 DataFrame\n",
       "│ Row │ X     │ Y     │\n",
       "│     │ \u001b[90mInt64\u001b[39m │ \u001b[90mInt64\u001b[39m │\n",
       "├─────┼───────┼───────┤\n",
       "│ 1   │ 2     │ 19    │\n",
       "│ 2   │ 1     │ 7     │\n",
       "│ 3   │ 1     │ 2     │\n",
       "│ 4   │ 3     │ 2     │"
      ]
     },
     "execution_count": 20,
     "metadata": {},
     "output_type": "execute_result"
    }
   ],
   "source": [
    "# Sort in reverse order of Y using order(:colname, rev=true)\n",
    "dat[sortperm(dat, order(:Y, rev=true)), :]"
   ]
  },
  {
   "cell_type": "code",
   "execution_count": null,
   "metadata": {},
   "outputs": [],
   "source": []
  }
 ],
 "metadata": {
  "kernelspec": {
   "display_name": "Julia 1.0.5",
   "language": "julia",
   "name": "julia-1.0"
  },
  "language_info": {
   "file_extension": ".jl",
   "mimetype": "application/julia",
   "name": "julia",
   "version": "1.0.5"
  }
 },
 "nbformat": 4,
 "nbformat_minor": 2
}
