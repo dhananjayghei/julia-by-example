{
 "cells": [
  {
   "cell_type": "markdown",
   "metadata": {},
   "source": [
    "# Regressions\n",
    "\n",
    "**Goal**: \n",
    "1. Simulate data from the OLS model and obtain OLS estimates from it.\n",
    "2. Demonstrate methods available for the fitted OLS model.\n",
    "3. Obtain OLS estimates when $X$ has a categorical variable."
   ]
  },
  {
   "cell_type": "code",
   "execution_count": 1,
   "metadata": {
    "scrolled": true
   },
   "outputs": [
    {
     "data": {
      "text/plain": [
       "v\"1.0.5\""
      ]
     },
     "execution_count": 1,
     "metadata": {},
     "output_type": "execute_result"
    }
   ],
   "source": [
    "# Julia Version\n",
    "VERSION "
   ]
  },
  {
   "cell_type": "markdown",
   "metadata": {},
   "source": [
    "## Simple Linear Regression"
   ]
  },
  {
   "cell_type": "code",
   "execution_count": 2,
   "metadata": {},
   "outputs": [],
   "source": [
    "# Loading the required packages\n",
    "using Distributions # to generate random distributions\n",
    "using Random # to set the seed for reproducibility\n",
    "using Plots # for plotting\n",
    "using BenchmarkTools # for benchmarking code\n",
    "using GLM # for regressions\n",
    "using DataFrames # for DataFrames"
   ]
  },
  {
   "cell_type": "code",
   "execution_count": 3,
   "metadata": {},
   "outputs": [],
   "source": [
    "# Set seed\n",
    "Random.seed!(42);"
   ]
  },
  {
   "cell_type": "code",
   "execution_count": 4,
   "metadata": {
    "scrolled": true
   },
   "outputs": [
    {
     "name": "stdout",
     "output_type": "stream",
     "text": [
      "typeof(x) = Array{Float64,1}\n",
      "typeof(y) = Array{Float64,1}\n"
     ]
    },
    {
     "data": {
      "text/plain": [
       "Array{Float64,1}"
      ]
     },
     "execution_count": 4,
     "metadata": {},
     "output_type": "execute_result"
    }
   ],
   "source": [
    "# Simulate some dataset\n",
    "x = rand(Uniform(0, 10), 100) # 100 draws from U(0,10)\n",
    "y = 2 .+ 3 .* x .+ randn(100) # beta = [2, 3] and sigma = 1\n",
    "@show typeof(x) # Array{Float64, 1}\n",
    "@show typeof(y) # Array{Float64, 1}"
   ]
  },
  {
   "cell_type": "code",
   "execution_count": 5,
   "metadata": {
    "scrolled": true
   },
   "outputs": [
    {
     "data": {
      "text/plain": [
       "StatsModels.TableRegressionModel{LinearModel{GLM.LmResp{Array{Float64,1}},GLM.DensePredChol{Float64,LinearAlgebra.Cholesky{Float64,Array{Float64,2}}}},Array{Float64,2}}\n",
       "\n",
       "Y ~ 1 + X\n",
       "\n",
       "Coefficients:\n",
       "──────────────────────────────────────────────────────────────────────────\n",
       "             Estimate  Std. Error  t value  Pr(>|t|)  Lower 95%  Upper 95%\n",
       "──────────────────────────────────────────────────────────────────────────\n",
       "(Intercept)   1.88442   0.203464    9.2617    <1e-14    1.48066    2.28819\n",
       "X             3.00623   0.0366987  81.9166    <1e-91    2.9334     3.07906\n",
       "──────────────────────────────────────────────────────────────────────────"
      ]
     },
     "execution_count": 5,
     "metadata": {},
     "output_type": "execute_result"
    }
   ],
   "source": [
    "# Linear regression using dataframes\n",
    "dat = DataFrame(X = x, Y=y)\n",
    "ols = lm(@formula(Y ~ X), dat)"
   ]
  },
  {
   "cell_type": "markdown",
   "metadata": {},
   "source": [
    "If you are familiar with `R`, the table above would look similar to the one you would get when running the `lm` function in `R`."
   ]
  },
  {
   "cell_type": "code",
   "execution_count": 6,
   "metadata": {
    "scrolled": true
   },
   "outputs": [
    {
     "name": "stdout",
     "output_type": "stream",
     "text": [
      "typeof(dat) = DataFrame\n",
      "typeof(ols) = StatsModels.TableRegressionModel{LinearModel{GLM.LmResp{Array{Float64,1}},GLM.DensePredChol{Float64,LinearAlgebra.Cholesky{Float64,Array{Float64,2}}}},Array{Float64,2}}\n"
     ]
    }
   ],
   "source": [
    "@show typeof(dat) # dat is a DataFrame\n",
    "@show typeof(ols); # ols is an object of type inherited from the GLM package"
   ]
  },
  {
   "cell_type": "code",
   "execution_count": 7,
   "metadata": {},
   "outputs": [
    {
     "data": {
      "image/svg+xml": [
       "<?xml version=\"1.0\" encoding=\"utf-8\"?>\n",
       "<svg xmlns=\"http://www.w3.org/2000/svg\" xmlns:xlink=\"http://www.w3.org/1999/xlink\" width=\"600\" height=\"400\" viewBox=\"0 0 2400 1600\">\n",
       "<defs>\n",
       "  <clipPath id=\"clip000\">\n",
       "    <rect x=\"0\" y=\"0\" width=\"2400\" height=\"1600\"/>\n",
       "  </clipPath>\n",
       "</defs>\n",
       "<path clip-path=\"url(#clip000)\" d=\"\n",
       "M0 1600 L2400 1600 L2400 0 L0 0  Z\n",
       "  \" fill=\"#ffffff\" fill-rule=\"evenodd\" fill-opacity=\"1\"/>\n",
       "<defs>\n",
       "  <clipPath id=\"clip001\">\n",
       "    <rect x=\"480\" y=\"0\" width=\"1681\" height=\"1600\"/>\n",
       "  </clipPath>\n",
       "</defs>\n",
       "<path clip-path=\"url(#clip000)\" d=\"\n",
       "M200.028 1423.18 L2352.76 1423.18 L2352.76 47.2441 L200.028 47.2441  Z\n",
       "  \" fill=\"#ffffff\" fill-rule=\"evenodd\" fill-opacity=\"1\"/>\n",
       "<defs>\n",
       "  <clipPath id=\"clip002\">\n",
       "    <rect x=\"200\" y=\"47\" width=\"2154\" height=\"1377\"/>\n",
       "  </clipPath>\n",
       "</defs>\n",
       "<polyline clip-path=\"url(#clip002)\" style=\"stroke:#000000; stroke-width:2; stroke-opacity:0.1; fill:none\" points=\"\n",
       "  251.133,1423.18 251.133,47.2441 \n",
       "  \"/>\n",
       "<polyline clip-path=\"url(#clip002)\" style=\"stroke:#000000; stroke-width:2; stroke-opacity:0.1; fill:none\" points=\"\n",
       "  761.722,1423.18 761.722,47.2441 \n",
       "  \"/>\n",
       "<polyline clip-path=\"url(#clip002)\" style=\"stroke:#000000; stroke-width:2; stroke-opacity:0.1; fill:none\" points=\"\n",
       "  1272.31,1423.18 1272.31,47.2441 \n",
       "  \"/>\n",
       "<polyline clip-path=\"url(#clip002)\" style=\"stroke:#000000; stroke-width:2; stroke-opacity:0.1; fill:none\" points=\"\n",
       "  1782.9,1423.18 1782.9,47.2441 \n",
       "  \"/>\n",
       "<polyline clip-path=\"url(#clip002)\" style=\"stroke:#000000; stroke-width:2; stroke-opacity:0.1; fill:none\" points=\"\n",
       "  2293.49,1423.18 2293.49,47.2441 \n",
       "  \"/>\n",
       "<polyline clip-path=\"url(#clip002)\" style=\"stroke:#000000; stroke-width:2; stroke-opacity:0.1; fill:none\" points=\"\n",
       "  200.028,1383.22 2352.76,1383.22 \n",
       "  \"/>\n",
       "<polyline clip-path=\"url(#clip002)\" style=\"stroke:#000000; stroke-width:2; stroke-opacity:0.1; fill:none\" points=\"\n",
       "  200.028,985.957 2352.76,985.957 \n",
       "  \"/>\n",
       "<polyline clip-path=\"url(#clip002)\" style=\"stroke:#000000; stroke-width:2; stroke-opacity:0.1; fill:none\" points=\"\n",
       "  200.028,588.692 2352.76,588.692 \n",
       "  \"/>\n",
       "<polyline clip-path=\"url(#clip002)\" style=\"stroke:#000000; stroke-width:2; stroke-opacity:0.1; fill:none\" points=\"\n",
       "  200.028,191.427 2352.76,191.427 \n",
       "  \"/>\n",
       "<polyline clip-path=\"url(#clip000)\" style=\"stroke:#000000; stroke-width:4; stroke-opacity:1; fill:none\" points=\"\n",
       "  200.028,1423.18 2352.76,1423.18 \n",
       "  \"/>\n",
       "<polyline clip-path=\"url(#clip000)\" style=\"stroke:#000000; stroke-width:4; stroke-opacity:1; fill:none\" points=\"\n",
       "  200.028,1423.18 200.028,47.2441 \n",
       "  \"/>\n",
       "<polyline clip-path=\"url(#clip000)\" style=\"stroke:#000000; stroke-width:4; stroke-opacity:1; fill:none\" points=\"\n",
       "  251.133,1423.18 251.133,1406.67 \n",
       "  \"/>\n",
       "<polyline clip-path=\"url(#clip000)\" style=\"stroke:#000000; stroke-width:4; stroke-opacity:1; fill:none\" points=\"\n",
       "  761.722,1423.18 761.722,1406.67 \n",
       "  \"/>\n",
       "<polyline clip-path=\"url(#clip000)\" style=\"stroke:#000000; stroke-width:4; stroke-opacity:1; fill:none\" points=\"\n",
       "  1272.31,1423.18 1272.31,1406.67 \n",
       "  \"/>\n",
       "<polyline clip-path=\"url(#clip000)\" style=\"stroke:#000000; stroke-width:4; stroke-opacity:1; fill:none\" points=\"\n",
       "  1782.9,1423.18 1782.9,1406.67 \n",
       "  \"/>\n",
       "<polyline clip-path=\"url(#clip000)\" style=\"stroke:#000000; stroke-width:4; stroke-opacity:1; fill:none\" points=\"\n",
       "  2293.49,1423.18 2293.49,1406.67 \n",
       "  \"/>\n",
       "<polyline clip-path=\"url(#clip000)\" style=\"stroke:#000000; stroke-width:4; stroke-opacity:1; fill:none\" points=\"\n",
       "  200.028,1383.22 225.861,1383.22 \n",
       "  \"/>\n",
       "<polyline clip-path=\"url(#clip000)\" style=\"stroke:#000000; stroke-width:4; stroke-opacity:1; fill:none\" points=\"\n",
       "  200.028,985.957 225.861,985.957 \n",
       "  \"/>\n",
       "<polyline clip-path=\"url(#clip000)\" style=\"stroke:#000000; stroke-width:4; stroke-opacity:1; fill:none\" points=\"\n",
       "  200.028,588.692 225.861,588.692 \n",
       "  \"/>\n",
       "<polyline clip-path=\"url(#clip000)\" style=\"stroke:#000000; stroke-width:4; stroke-opacity:1; fill:none\" points=\"\n",
       "  200.028,191.427 225.861,191.427 \n",
       "  \"/>\n",
       "<path clip-path=\"url(#clip000)\" d=\"M 0 0 M232.649 1445.17 Q229.038 1445.17 227.21 1448.74 Q225.404 1452.28 225.404 1459.41 Q225.404 1466.51 227.21 1470.08 Q229.038 1473.62 232.649 1473.62 Q236.284 1473.62 238.089 1470.08 Q239.918 1466.51 239.918 1459.41 Q239.918 1452.28 238.089 1448.74 Q236.284 1445.17 232.649 1445.17 M232.649 1441.47 Q238.46 1441.47 241.515 1446.07 Q244.594 1450.66 244.594 1459.41 Q244.594 1468.13 241.515 1472.74 Q238.46 1477.32 232.649 1477.32 Q226.839 1477.32 223.761 1472.74 Q220.705 1468.13 220.705 1459.41 Q220.705 1450.66 223.761 1446.07 Q226.839 1441.47 232.649 1441.47 Z\" fill=\"#000000\" fill-rule=\"evenodd\" fill-opacity=\"1\" /><path clip-path=\"url(#clip000)\" d=\"M 0 0 M249.663 1470.77 L254.548 1470.77 L254.548 1476.65 L249.663 1476.65 L249.663 1470.77 Z\" fill=\"#000000\" fill-rule=\"evenodd\" fill-opacity=\"1\" /><path clip-path=\"url(#clip000)\" d=\"M 0 0 M269.617 1445.17 Q266.006 1445.17 264.177 1448.74 Q262.372 1452.28 262.372 1459.41 Q262.372 1466.51 264.177 1470.08 Q266.006 1473.62 269.617 1473.62 Q273.251 1473.62 275.057 1470.08 Q276.885 1466.51 276.885 1459.41 Q276.885 1452.28 275.057 1448.74 Q273.251 1445.17 269.617 1445.17 M269.617 1441.47 Q275.427 1441.47 278.483 1446.07 Q281.561 1450.66 281.561 1459.41 Q281.561 1468.13 278.483 1472.74 Q275.427 1477.32 269.617 1477.32 Q263.807 1477.32 260.728 1472.74 Q257.672 1468.13 257.672 1459.41 Q257.672 1450.66 260.728 1446.07 Q263.807 1441.47 269.617 1441.47 Z\" fill=\"#000000\" fill-rule=\"evenodd\" fill-opacity=\"1\" /><path clip-path=\"url(#clip000)\" d=\"M 0 0 M738.389 1472.72 L754.708 1472.72 L754.708 1476.65 L732.764 1476.65 L732.764 1472.72 Q735.426 1469.96 740.009 1465.33 Q744.616 1460.68 745.796 1459.34 Q748.042 1456.81 748.921 1455.08 Q749.824 1453.32 749.824 1451.63 Q749.824 1448.87 747.88 1447.14 Q745.958 1445.4 742.857 1445.4 Q740.658 1445.4 738.204 1446.17 Q735.773 1446.93 732.996 1448.48 L732.996 1443.76 Q735.82 1442.62 738.273 1442.05 Q740.727 1441.47 742.764 1441.47 Q748.134 1441.47 751.329 1444.15 Q754.523 1446.84 754.523 1451.33 Q754.523 1453.46 753.713 1455.38 Q752.926 1457.28 750.82 1459.87 Q750.241 1460.54 747.139 1463.76 Q744.037 1466.95 738.389 1472.72 Z\" fill=\"#000000\" fill-rule=\"evenodd\" fill-opacity=\"1\" /><path clip-path=\"url(#clip000)\" d=\"M 0 0 M759.778 1470.77 L764.662 1470.77 L764.662 1476.65 L759.778 1476.65 L759.778 1470.77 Z\" fill=\"#000000\" fill-rule=\"evenodd\" fill-opacity=\"1\" /><path clip-path=\"url(#clip000)\" d=\"M 0 0 M769.778 1442.09 L788.134 1442.09 L788.134 1446.03 L774.06 1446.03 L774.06 1454.5 Q775.079 1454.15 776.097 1453.99 Q777.116 1453.8 778.134 1453.8 Q783.921 1453.8 787.301 1456.98 Q790.68 1460.15 790.68 1465.56 Q790.68 1471.14 787.208 1474.24 Q783.736 1477.32 777.417 1477.32 Q775.241 1477.32 772.972 1476.95 Q770.727 1476.58 768.319 1475.84 L768.319 1471.14 Q770.403 1472.28 772.625 1472.83 Q774.847 1473.39 777.324 1473.39 Q781.329 1473.39 783.667 1471.28 Q786.005 1469.18 786.005 1465.56 Q786.005 1461.95 783.667 1459.85 Q781.329 1457.74 777.324 1457.74 Q775.449 1457.74 773.574 1458.16 Q771.722 1458.57 769.778 1459.45 L769.778 1442.09 Z\" fill=\"#000000\" fill-rule=\"evenodd\" fill-opacity=\"1\" /><path clip-path=\"url(#clip000)\" d=\"M 0 0 M1244.11 1442.09 L1262.46 1442.09 L1262.46 1446.03 L1248.39 1446.03 L1248.39 1454.5 Q1249.41 1454.15 1250.42 1453.99 Q1251.44 1453.8 1252.46 1453.8 Q1258.25 1453.8 1261.63 1456.98 Q1265.01 1460.15 1265.01 1465.56 Q1265.01 1471.14 1261.54 1474.24 Q1258.06 1477.32 1251.74 1477.32 Q1249.57 1477.32 1247.3 1476.95 Q1245.05 1476.58 1242.65 1475.84 L1242.65 1471.14 Q1244.73 1472.28 1246.95 1472.83 Q1249.17 1473.39 1251.65 1473.39 Q1255.66 1473.39 1257.99 1471.28 Q1260.33 1469.18 1260.33 1465.56 Q1260.33 1461.95 1257.99 1459.85 Q1255.66 1457.74 1251.65 1457.74 Q1249.78 1457.74 1247.9 1458.16 Q1246.05 1458.57 1244.11 1459.45 L1244.11 1442.09 Z\" fill=\"#000000\" fill-rule=\"evenodd\" fill-opacity=\"1\" /><path clip-path=\"url(#clip000)\" d=\"M 0 0 M1270.08 1470.77 L1274.96 1470.77 L1274.96 1476.65 L1270.08 1476.65 L1270.08 1470.77 Z\" fill=\"#000000\" fill-rule=\"evenodd\" fill-opacity=\"1\" /><path clip-path=\"url(#clip000)\" d=\"M 0 0 M1290.03 1445.17 Q1286.42 1445.17 1284.59 1448.74 Q1282.79 1452.28 1282.79 1459.41 Q1282.79 1466.51 1284.59 1470.08 Q1286.42 1473.62 1290.03 1473.62 Q1293.67 1473.62 1295.47 1470.08 Q1297.3 1466.51 1297.3 1459.41 Q1297.3 1452.28 1295.47 1448.74 Q1293.67 1445.17 1290.03 1445.17 M1290.03 1441.47 Q1295.84 1441.47 1298.9 1446.07 Q1301.98 1450.66 1301.98 1459.41 Q1301.98 1468.13 1298.9 1472.74 Q1295.84 1477.32 1290.03 1477.32 Q1284.22 1477.32 1281.14 1472.74 Q1278.09 1468.13 1278.09 1459.41 Q1278.09 1450.66 1281.14 1446.07 Q1284.22 1441.47 1290.03 1441.47 Z\" fill=\"#000000\" fill-rule=\"evenodd\" fill-opacity=\"1\" /><path clip-path=\"url(#clip000)\" d=\"M 0 0 M1753.8 1442.09 L1776.03 1442.09 L1776.03 1444.08 L1763.48 1476.65 L1758.6 1476.65 L1770.4 1446.03 L1753.8 1446.03 L1753.8 1442.09 Z\" fill=\"#000000\" fill-rule=\"evenodd\" fill-opacity=\"1\" /><path clip-path=\"url(#clip000)\" d=\"M 0 0 M1781.09 1470.77 L1785.98 1470.77 L1785.98 1476.65 L1781.09 1476.65 L1781.09 1470.77 Z\" fill=\"#000000\" fill-rule=\"evenodd\" fill-opacity=\"1\" /><path clip-path=\"url(#clip000)\" d=\"M 0 0 M1791.09 1442.09 L1809.45 1442.09 L1809.45 1446.03 L1795.38 1446.03 L1795.38 1454.5 Q1796.4 1454.15 1797.41 1453.99 Q1798.43 1453.8 1799.45 1453.8 Q1805.24 1453.8 1808.62 1456.98 Q1812 1460.15 1812 1465.56 Q1812 1471.14 1808.53 1474.24 Q1805.05 1477.32 1798.73 1477.32 Q1796.56 1477.32 1794.29 1476.95 Q1792.04 1476.58 1789.64 1475.84 L1789.64 1471.14 Q1791.72 1472.28 1793.94 1472.83 Q1796.16 1473.39 1798.64 1473.39 Q1802.65 1473.39 1804.98 1471.28 Q1807.32 1469.18 1807.32 1465.56 Q1807.32 1461.95 1804.98 1459.85 Q1802.65 1457.74 1798.64 1457.74 Q1796.77 1457.74 1794.89 1458.16 Q1793.04 1458.57 1791.09 1459.45 L1791.09 1442.09 Z\" fill=\"#000000\" fill-rule=\"evenodd\" fill-opacity=\"1\" /><path clip-path=\"url(#clip000)\" d=\"M 0 0 M2251.88 1472.72 L2259.52 1472.72 L2259.52 1446.35 L2251.21 1448.02 L2251.21 1443.76 L2259.47 1442.09 L2264.15 1442.09 L2264.15 1472.72 L2271.79 1472.72 L2271.79 1476.65 L2251.88 1476.65 L2251.88 1472.72 Z\" fill=\"#000000\" fill-rule=\"evenodd\" fill-opacity=\"1\" /><path clip-path=\"url(#clip000)\" d=\"M 0 0 M2286.86 1445.17 Q2283.25 1445.17 2281.42 1448.74 Q2279.61 1452.28 2279.61 1459.41 Q2279.61 1466.51 2281.42 1470.08 Q2283.25 1473.62 2286.86 1473.62 Q2290.49 1473.62 2292.3 1470.08 Q2294.13 1466.51 2294.13 1459.41 Q2294.13 1452.28 2292.3 1448.74 Q2290.49 1445.17 2286.86 1445.17 M2286.86 1441.47 Q2292.67 1441.47 2295.72 1446.07 Q2298.8 1450.66 2298.8 1459.41 Q2298.8 1468.13 2295.72 1472.74 Q2292.67 1477.32 2286.86 1477.32 Q2281.05 1477.32 2277.97 1472.74 Q2274.91 1468.13 2274.91 1459.41 Q2274.91 1450.66 2277.97 1446.07 Q2281.05 1441.47 2286.86 1441.47 Z\" fill=\"#000000\" fill-rule=\"evenodd\" fill-opacity=\"1\" /><path clip-path=\"url(#clip000)\" d=\"M 0 0 M2303.87 1470.77 L2308.76 1470.77 L2308.76 1476.65 L2303.87 1476.65 L2303.87 1470.77 Z\" fill=\"#000000\" fill-rule=\"evenodd\" fill-opacity=\"1\" /><path clip-path=\"url(#clip000)\" d=\"M 0 0 M2323.83 1445.17 Q2320.21 1445.17 2318.39 1448.74 Q2316.58 1452.28 2316.58 1459.41 Q2316.58 1466.51 2318.39 1470.08 Q2320.21 1473.62 2323.83 1473.62 Q2327.46 1473.62 2329.26 1470.08 Q2331.09 1466.51 2331.09 1459.41 Q2331.09 1452.28 2329.26 1448.74 Q2327.46 1445.17 2323.83 1445.17 M2323.83 1441.47 Q2329.64 1441.47 2332.69 1446.07 Q2335.77 1450.66 2335.77 1459.41 Q2335.77 1468.13 2332.69 1472.74 Q2329.64 1477.32 2323.83 1477.32 Q2318.01 1477.32 2314.94 1472.74 Q2311.88 1468.13 2311.88 1459.41 Q2311.88 1450.66 2314.94 1446.07 Q2318.01 1441.47 2323.83 1441.47 Z\" fill=\"#000000\" fill-rule=\"evenodd\" fill-opacity=\"1\" /><path clip-path=\"url(#clip000)\" d=\"M 0 0 M164.084 1369.02 Q160.473 1369.02 158.644 1372.59 Q156.839 1376.13 156.839 1383.26 Q156.839 1390.36 158.644 1393.93 Q160.473 1397.47 164.084 1397.47 Q167.718 1397.47 169.524 1393.93 Q171.353 1390.36 171.353 1383.26 Q171.353 1376.13 169.524 1372.59 Q167.718 1369.02 164.084 1369.02 M164.084 1365.32 Q169.894 1365.32 172.95 1369.92 Q176.028 1374.51 176.028 1383.26 Q176.028 1391.98 172.95 1396.59 Q169.894 1401.17 164.084 1401.17 Q158.274 1401.17 155.195 1396.59 Q152.14 1391.98 152.14 1383.26 Q152.14 1374.51 155.195 1369.92 Q158.274 1365.32 164.084 1365.32 Z\" fill=\"#000000\" fill-rule=\"evenodd\" fill-opacity=\"1\" /><path clip-path=\"url(#clip000)\" d=\"M 0 0 M129.107 999.301 L136.746 999.301 L136.746 972.936 L128.436 974.603 L128.436 970.343 L136.7 968.677 L141.376 968.677 L141.376 999.301 L149.015 999.301 L149.015 1003.24 L129.107 1003.24 L129.107 999.301 Z\" fill=\"#000000\" fill-rule=\"evenodd\" fill-opacity=\"1\" /><path clip-path=\"url(#clip000)\" d=\"M 0 0 M164.084 971.755 Q160.473 971.755 158.644 975.32 Q156.839 978.862 156.839 985.991 Q156.839 993.098 158.644 996.663 Q160.473 1000.2 164.084 1000.2 Q167.718 1000.2 169.524 996.663 Q171.353 993.098 171.353 985.991 Q171.353 978.862 169.524 975.32 Q167.718 971.755 164.084 971.755 M164.084 968.052 Q169.894 968.052 172.95 972.658 Q176.028 977.241 176.028 985.991 Q176.028 994.718 172.95 999.325 Q169.894 1003.91 164.084 1003.91 Q158.274 1003.91 155.195 999.325 Q152.14 994.718 152.14 985.991 Q152.14 977.241 155.195 972.658 Q158.274 968.052 164.084 968.052 Z\" fill=\"#000000\" fill-rule=\"evenodd\" fill-opacity=\"1\" /><path clip-path=\"url(#clip000)\" d=\"M 0 0 M132.695 602.037 L149.015 602.037 L149.015 605.972 L127.07 605.972 L127.07 602.037 Q129.732 599.282 134.316 594.652 Q138.922 590 140.103 588.657 Q142.348 586.134 143.228 584.398 Q144.13 582.638 144.13 580.949 Q144.13 578.194 142.186 576.458 Q140.265 574.722 137.163 574.722 Q134.964 574.722 132.51 575.486 Q130.08 576.25 127.302 577.801 L127.302 573.078 Q130.126 571.944 132.58 571.365 Q135.033 570.787 137.07 570.787 Q142.441 570.787 145.635 573.472 Q148.829 576.157 148.829 580.648 Q148.829 582.777 148.019 584.699 Q147.232 586.597 145.126 589.189 Q144.547 589.861 141.445 593.078 Q138.343 596.273 132.695 602.037 Z\" fill=\"#000000\" fill-rule=\"evenodd\" fill-opacity=\"1\" /><path clip-path=\"url(#clip000)\" d=\"M 0 0 M164.084 574.49 Q160.473 574.49 158.644 578.055 Q156.839 581.597 156.839 588.726 Q156.839 595.833 158.644 599.398 Q160.473 602.939 164.084 602.939 Q167.718 602.939 169.524 599.398 Q171.353 595.833 171.353 588.726 Q171.353 581.597 169.524 578.055 Q167.718 574.49 164.084 574.49 M164.084 570.787 Q169.894 570.787 172.95 575.393 Q176.028 579.976 176.028 588.726 Q176.028 597.453 172.95 602.06 Q169.894 606.643 164.084 606.643 Q158.274 606.643 155.195 602.06 Q152.14 597.453 152.14 588.726 Q152.14 579.976 155.195 575.393 Q158.274 570.787 164.084 570.787 Z\" fill=\"#000000\" fill-rule=\"evenodd\" fill-opacity=\"1\" /><path clip-path=\"url(#clip000)\" d=\"M 0 0 M141.885 190.073 Q145.242 190.79 147.117 193.059 Q149.015 195.327 149.015 198.66 Q149.015 203.776 145.496 206.577 Q141.978 209.378 135.496 209.378 Q133.32 209.378 131.006 208.938 Q128.714 208.522 126.26 207.665 L126.26 203.151 Q128.205 204.285 130.519 204.864 Q132.834 205.443 135.357 205.443 Q139.755 205.443 142.047 203.707 Q144.362 201.971 144.362 198.66 Q144.362 195.605 142.209 193.892 Q140.08 192.156 136.26 192.156 L132.232 192.156 L132.232 188.313 L136.445 188.313 Q139.894 188.313 141.723 186.948 Q143.552 185.559 143.552 182.966 Q143.552 180.304 141.654 178.892 Q139.779 177.457 136.26 177.457 Q134.339 177.457 132.14 177.874 Q129.941 178.29 127.302 179.17 L127.302 175.003 Q129.964 174.262 132.279 173.892 Q134.617 173.522 136.677 173.522 Q142.001 173.522 145.103 175.952 Q148.204 178.36 148.204 182.48 Q148.204 185.35 146.561 187.341 Q144.917 189.309 141.885 190.073 Z\" fill=\"#000000\" fill-rule=\"evenodd\" fill-opacity=\"1\" /><path clip-path=\"url(#clip000)\" d=\"M 0 0 M164.084 177.225 Q160.473 177.225 158.644 180.79 Q156.839 184.332 156.839 191.461 Q156.839 198.568 158.644 202.133 Q160.473 205.674 164.084 205.674 Q167.718 205.674 169.524 202.133 Q171.353 198.568 171.353 191.461 Q171.353 184.332 169.524 180.79 Q167.718 177.225 164.084 177.225 M164.084 173.522 Q169.894 173.522 172.95 178.128 Q176.028 182.711 176.028 191.461 Q176.028 200.188 172.95 204.795 Q169.894 209.378 164.084 209.378 Q158.274 209.378 155.195 204.795 Q152.14 200.188 152.14 191.461 Q152.14 182.711 155.195 178.128 Q158.274 173.522 164.084 173.522 Z\" fill=\"#000000\" fill-rule=\"evenodd\" fill-opacity=\"1\" /><polyline clip-path=\"url(#clip000)\" style=\"stroke:#000000; stroke-width:4; stroke-opacity:1; fill:none\" points=\"\n",
       "  200.028,47.2441 2352.76,47.2441 \n",
       "  \"/>\n",
       "<polyline clip-path=\"url(#clip000)\" style=\"stroke:#000000; stroke-width:4; stroke-opacity:1; fill:none\" points=\"\n",
       "  2352.76,1423.18 2352.76,47.2441 \n",
       "  \"/>\n",
       "<path clip-path=\"url(#clip000)\" d=\"M 0 0 M1258.22 1508.52 L1265.12 1508.52 L1276.93 1526.19 L1288.81 1508.52 L1295.71 1508.52 L1280.43 1531.34 L1296.73 1556.04 L1289.82 1556.04 L1276.46 1535.83 L1262.99 1556.04 L1256.05 1556.04 L1273.02 1530.68 L1258.22 1508.52 Z\" fill=\"#000000\" fill-rule=\"evenodd\" fill-opacity=\"1\" /><path clip-path=\"url(#clip000)\" d=\"M 0 0 M40.4842 755.248 L40.4842 748.341 L60.0269 735.164 L40.4842 722.083 L40.4842 715.176 L65.3741 731.981 L88.0042 731.981 L88.0042 738.443 L65.3741 738.443 L40.4842 755.248 Z\" fill=\"#000000\" fill-rule=\"evenodd\" fill-opacity=\"1\" /><circle clip-path=\"url(#clip002)\" cx=\"1340.08\" cy=\"658.503\" r=\"14\" fill=\"#ff6347\" fill-rule=\"evenodd\" fill-opacity=\"1\" stroke=\"#000000\" stroke-opacity=\"1\" stroke-width=\"3.2\"/>\n",
       "<circle clip-path=\"url(#clip002)\" cx=\"1178.42\" cy=\"763.678\" r=\"14\" fill=\"#ff6347\" fill-rule=\"evenodd\" fill-opacity=\"1\" stroke=\"#000000\" stroke-opacity=\"1\" stroke-width=\"3.2\"/>\n",
       "<circle clip-path=\"url(#clip002)\" cx=\"287.256\" cy=\"1307.8\" r=\"14\" fill=\"#ff6347\" fill-rule=\"evenodd\" fill-opacity=\"1\" stroke=\"#000000\" stroke-opacity=\"1\" stroke-width=\"3.2\"/>\n",
       "<circle clip-path=\"url(#clip002)\" cx=\"604.324\" cy=\"1138.21\" r=\"14\" fill=\"#ff6347\" fill-rule=\"evenodd\" fill-opacity=\"1\" stroke=\"#000000\" stroke-opacity=\"1\" stroke-width=\"3.2\"/>\n",
       "<circle clip-path=\"url(#clip002)\" cx=\"2209.6\" cy=\"213.027\" r=\"14\" fill=\"#ff6347\" fill-rule=\"evenodd\" fill-opacity=\"1\" stroke=\"#000000\" stroke-opacity=\"1\" stroke-width=\"3.2\"/>\n",
       "<circle clip-path=\"url(#clip002)\" cx=\"2239.5\" cy=\"116.183\" r=\"14\" fill=\"#ff6347\" fill-rule=\"evenodd\" fill-opacity=\"1\" stroke=\"#000000\" stroke-opacity=\"1\" stroke-width=\"3.2\"/>\n",
       "<circle clip-path=\"url(#clip002)\" cx=\"871.743\" cy=\"945.377\" r=\"14\" fill=\"#ff6347\" fill-rule=\"evenodd\" fill-opacity=\"1\" stroke=\"#000000\" stroke-opacity=\"1\" stroke-width=\"3.2\"/>\n",
       "<circle clip-path=\"url(#clip002)\" cx=\"612.444\" cy=\"1104.24\" r=\"14\" fill=\"#ff6347\" fill-rule=\"evenodd\" fill-opacity=\"1\" stroke=\"#000000\" stroke-opacity=\"1\" stroke-width=\"3.2\"/>\n",
       "<circle clip-path=\"url(#clip002)\" cx=\"2205.5\" cy=\"176.779\" r=\"14\" fill=\"#ff6347\" fill-rule=\"evenodd\" fill-opacity=\"1\" stroke=\"#000000\" stroke-opacity=\"1\" stroke-width=\"3.2\"/>\n",
       "<circle clip-path=\"url(#clip002)\" cx=\"1444.45\" cy=\"611.21\" r=\"14\" fill=\"#ff6347\" fill-rule=\"evenodd\" fill-opacity=\"1\" stroke=\"#000000\" stroke-opacity=\"1\" stroke-width=\"3.2\"/>\n",
       "<circle clip-path=\"url(#clip002)\" cx=\"2165.77\" cy=\"155.953\" r=\"14\" fill=\"#ff6347\" fill-rule=\"evenodd\" fill-opacity=\"1\" stroke=\"#000000\" stroke-opacity=\"1\" stroke-width=\"3.2\"/>\n",
       "<circle clip-path=\"url(#clip002)\" cx=\"577.923\" cy=\"1055.77\" r=\"14\" fill=\"#ff6347\" fill-rule=\"evenodd\" fill-opacity=\"1\" stroke=\"#000000\" stroke-opacity=\"1\" stroke-width=\"3.2\"/>\n",
       "<circle clip-path=\"url(#clip002)\" cx=\"1114.96\" cy=\"810.618\" r=\"14\" fill=\"#ff6347\" fill-rule=\"evenodd\" fill-opacity=\"1\" stroke=\"#000000\" stroke-opacity=\"1\" stroke-width=\"3.2\"/>\n",
       "<circle clip-path=\"url(#clip002)\" cx=\"1481.24\" cy=\"601.035\" r=\"14\" fill=\"#ff6347\" fill-rule=\"evenodd\" fill-opacity=\"1\" stroke=\"#000000\" stroke-opacity=\"1\" stroke-width=\"3.2\"/>\n",
       "<circle clip-path=\"url(#clip002)\" cx=\"993.445\" cy=\"899.311\" r=\"14\" fill=\"#ff6347\" fill-rule=\"evenodd\" fill-opacity=\"1\" stroke=\"#000000\" stroke-opacity=\"1\" stroke-width=\"3.2\"/>\n",
       "<circle clip-path=\"url(#clip002)\" cx=\"1034.36\" cy=\"841.178\" r=\"14\" fill=\"#ff6347\" fill-rule=\"evenodd\" fill-opacity=\"1\" stroke=\"#000000\" stroke-opacity=\"1\" stroke-width=\"3.2\"/>\n",
       "<circle clip-path=\"url(#clip002)\" cx=\"1462.07\" cy=\"653.128\" r=\"14\" fill=\"#ff6347\" fill-rule=\"evenodd\" fill-opacity=\"1\" stroke=\"#000000\" stroke-opacity=\"1\" stroke-width=\"3.2\"/>\n",
       "<circle clip-path=\"url(#clip002)\" cx=\"1773.06\" cy=\"373.736\" r=\"14\" fill=\"#ff6347\" fill-rule=\"evenodd\" fill-opacity=\"1\" stroke=\"#000000\" stroke-opacity=\"1\" stroke-width=\"3.2\"/>\n",
       "<circle clip-path=\"url(#clip002)\" cx=\"787.882\" cy=\"1079.46\" r=\"14\" fill=\"#ff6347\" fill-rule=\"evenodd\" fill-opacity=\"1\" stroke=\"#000000\" stroke-opacity=\"1\" stroke-width=\"3.2\"/>\n",
       "<circle clip-path=\"url(#clip002)\" cx=\"1278.34\" cy=\"731.769\" r=\"14\" fill=\"#ff6347\" fill-rule=\"evenodd\" fill-opacity=\"1\" stroke=\"#000000\" stroke-opacity=\"1\" stroke-width=\"3.2\"/>\n",
       "<circle clip-path=\"url(#clip002)\" cx=\"1501.16\" cy=\"629.238\" r=\"14\" fill=\"#ff6347\" fill-rule=\"evenodd\" fill-opacity=\"1\" stroke=\"#000000\" stroke-opacity=\"1\" stroke-width=\"3.2\"/>\n",
       "<circle clip-path=\"url(#clip002)\" cx=\"681.835\" cy=\"1028.85\" r=\"14\" fill=\"#ff6347\" fill-rule=\"evenodd\" fill-opacity=\"1\" stroke=\"#000000\" stroke-opacity=\"1\" stroke-width=\"3.2\"/>\n",
       "<circle clip-path=\"url(#clip002)\" cx=\"592.552\" cy=\"1078.28\" r=\"14\" fill=\"#ff6347\" fill-rule=\"evenodd\" fill-opacity=\"1\" stroke=\"#000000\" stroke-opacity=\"1\" stroke-width=\"3.2\"/>\n",
       "<circle clip-path=\"url(#clip002)\" cx=\"1266.35\" cy=\"601.748\" r=\"14\" fill=\"#ff6347\" fill-rule=\"evenodd\" fill-opacity=\"1\" stroke=\"#000000\" stroke-opacity=\"1\" stroke-width=\"3.2\"/>\n",
       "<circle clip-path=\"url(#clip002)\" cx=\"2231.06\" cy=\"129.827\" r=\"14\" fill=\"#ff6347\" fill-rule=\"evenodd\" fill-opacity=\"1\" stroke=\"#000000\" stroke-opacity=\"1\" stroke-width=\"3.2\"/>\n",
       "<circle clip-path=\"url(#clip002)\" cx=\"419.294\" cy=\"1208.84\" r=\"14\" fill=\"#ff6347\" fill-rule=\"evenodd\" fill-opacity=\"1\" stroke=\"#000000\" stroke-opacity=\"1\" stroke-width=\"3.2\"/>\n",
       "<circle clip-path=\"url(#clip002)\" cx=\"750.863\" cy=\"1009\" r=\"14\" fill=\"#ff6347\" fill-rule=\"evenodd\" fill-opacity=\"1\" stroke=\"#000000\" stroke-opacity=\"1\" stroke-width=\"3.2\"/>\n",
       "<circle clip-path=\"url(#clip002)\" cx=\"1175.13\" cy=\"778.98\" r=\"14\" fill=\"#ff6347\" fill-rule=\"evenodd\" fill-opacity=\"1\" stroke=\"#000000\" stroke-opacity=\"1\" stroke-width=\"3.2\"/>\n",
       "<circle clip-path=\"url(#clip002)\" cx=\"1810.92\" cy=\"420.917\" r=\"14\" fill=\"#ff6347\" fill-rule=\"evenodd\" fill-opacity=\"1\" stroke=\"#000000\" stroke-opacity=\"1\" stroke-width=\"3.2\"/>\n",
       "<circle clip-path=\"url(#clip002)\" cx=\"827.051\" cy=\"995.338\" r=\"14\" fill=\"#ff6347\" fill-rule=\"evenodd\" fill-opacity=\"1\" stroke=\"#000000\" stroke-opacity=\"1\" stroke-width=\"3.2\"/>\n",
       "<circle clip-path=\"url(#clip002)\" cx=\"544.492\" cy=\"1149.66\" r=\"14\" fill=\"#ff6347\" fill-rule=\"evenodd\" fill-opacity=\"1\" stroke=\"#000000\" stroke-opacity=\"1\" stroke-width=\"3.2\"/>\n",
       "<circle clip-path=\"url(#clip002)\" cx=\"260.955\" cy=\"1322.55\" r=\"14\" fill=\"#ff6347\" fill-rule=\"evenodd\" fill-opacity=\"1\" stroke=\"#000000\" stroke-opacity=\"1\" stroke-width=\"3.2\"/>\n",
       "<circle clip-path=\"url(#clip002)\" cx=\"1415.45\" cy=\"655.63\" r=\"14\" fill=\"#ff6347\" fill-rule=\"evenodd\" fill-opacity=\"1\" stroke=\"#000000\" stroke-opacity=\"1\" stroke-width=\"3.2\"/>\n",
       "<circle clip-path=\"url(#clip002)\" cx=\"486.406\" cy=\"1127.57\" r=\"14\" fill=\"#ff6347\" fill-rule=\"evenodd\" fill-opacity=\"1\" stroke=\"#000000\" stroke-opacity=\"1\" stroke-width=\"3.2\"/>\n",
       "<circle clip-path=\"url(#clip002)\" cx=\"760.165\" cy=\"1013.36\" r=\"14\" fill=\"#ff6347\" fill-rule=\"evenodd\" fill-opacity=\"1\" stroke=\"#000000\" stroke-opacity=\"1\" stroke-width=\"3.2\"/>\n",
       "<circle clip-path=\"url(#clip002)\" cx=\"1723.02\" cy=\"462.387\" r=\"14\" fill=\"#ff6347\" fill-rule=\"evenodd\" fill-opacity=\"1\" stroke=\"#000000\" stroke-opacity=\"1\" stroke-width=\"3.2\"/>\n",
       "<circle clip-path=\"url(#clip002)\" cx=\"1613.69\" cy=\"509.089\" r=\"14\" fill=\"#ff6347\" fill-rule=\"evenodd\" fill-opacity=\"1\" stroke=\"#000000\" stroke-opacity=\"1\" stroke-width=\"3.2\"/>\n",
       "<circle clip-path=\"url(#clip002)\" cx=\"540.626\" cy=\"1118.65\" r=\"14\" fill=\"#ff6347\" fill-rule=\"evenodd\" fill-opacity=\"1\" stroke=\"#000000\" stroke-opacity=\"1\" stroke-width=\"3.2\"/>\n",
       "<circle clip-path=\"url(#clip002)\" cx=\"1970.07\" cy=\"315.898\" r=\"14\" fill=\"#ff6347\" fill-rule=\"evenodd\" fill-opacity=\"1\" stroke=\"#000000\" stroke-opacity=\"1\" stroke-width=\"3.2\"/>\n",
       "<circle clip-path=\"url(#clip002)\" cx=\"1508.2\" cy=\"587.327\" r=\"14\" fill=\"#ff6347\" fill-rule=\"evenodd\" fill-opacity=\"1\" stroke=\"#000000\" stroke-opacity=\"1\" stroke-width=\"3.2\"/>\n",
       "<circle clip-path=\"url(#clip002)\" cx=\"791.187\" cy=\"990.728\" r=\"14\" fill=\"#ff6347\" fill-rule=\"evenodd\" fill-opacity=\"1\" stroke=\"#000000\" stroke-opacity=\"1\" stroke-width=\"3.2\"/>\n",
       "<circle clip-path=\"url(#clip002)\" cx=\"1952.7\" cy=\"280.521\" r=\"14\" fill=\"#ff6347\" fill-rule=\"evenodd\" fill-opacity=\"1\" stroke=\"#000000\" stroke-opacity=\"1\" stroke-width=\"3.2\"/>\n",
       "<circle clip-path=\"url(#clip002)\" cx=\"1904.51\" cy=\"406.804\" r=\"14\" fill=\"#ff6347\" fill-rule=\"evenodd\" fill-opacity=\"1\" stroke=\"#000000\" stroke-opacity=\"1\" stroke-width=\"3.2\"/>\n",
       "<circle clip-path=\"url(#clip002)\" cx=\"680.595\" cy=\"1079.58\" r=\"14\" fill=\"#ff6347\" fill-rule=\"evenodd\" fill-opacity=\"1\" stroke=\"#000000\" stroke-opacity=\"1\" stroke-width=\"3.2\"/>\n",
       "<circle clip-path=\"url(#clip002)\" cx=\"1397.81\" cy=\"571.275\" r=\"14\" fill=\"#ff6347\" fill-rule=\"evenodd\" fill-opacity=\"1\" stroke=\"#000000\" stroke-opacity=\"1\" stroke-width=\"3.2\"/>\n",
       "<circle clip-path=\"url(#clip002)\" cx=\"344.53\" cy=\"1227.72\" r=\"14\" fill=\"#ff6347\" fill-rule=\"evenodd\" fill-opacity=\"1\" stroke=\"#000000\" stroke-opacity=\"1\" stroke-width=\"3.2\"/>\n",
       "<circle clip-path=\"url(#clip002)\" cx=\"2107.59\" cy=\"209.716\" r=\"14\" fill=\"#ff6347\" fill-rule=\"evenodd\" fill-opacity=\"1\" stroke=\"#000000\" stroke-opacity=\"1\" stroke-width=\"3.2\"/>\n",
       "<circle clip-path=\"url(#clip002)\" cx=\"1491.52\" cy=\"533.724\" r=\"14\" fill=\"#ff6347\" fill-rule=\"evenodd\" fill-opacity=\"1\" stroke=\"#000000\" stroke-opacity=\"1\" stroke-width=\"3.2\"/>\n",
       "<circle clip-path=\"url(#clip002)\" cx=\"2286.46\" cy=\"154.817\" r=\"14\" fill=\"#ff6347\" fill-rule=\"evenodd\" fill-opacity=\"1\" stroke=\"#000000\" stroke-opacity=\"1\" stroke-width=\"3.2\"/>\n",
       "<circle clip-path=\"url(#clip002)\" cx=\"1193.13\" cy=\"730.585\" r=\"14\" fill=\"#ff6347\" fill-rule=\"evenodd\" fill-opacity=\"1\" stroke=\"#000000\" stroke-opacity=\"1\" stroke-width=\"3.2\"/>\n",
       "<circle clip-path=\"url(#clip002)\" cx=\"1161.68\" cy=\"795.518\" r=\"14\" fill=\"#ff6347\" fill-rule=\"evenodd\" fill-opacity=\"1\" stroke=\"#000000\" stroke-opacity=\"1\" stroke-width=\"3.2\"/>\n",
       "<circle clip-path=\"url(#clip002)\" cx=\"450.943\" cy=\"1228.54\" r=\"14\" fill=\"#ff6347\" fill-rule=\"evenodd\" fill-opacity=\"1\" stroke=\"#000000\" stroke-opacity=\"1\" stroke-width=\"3.2\"/>\n",
       "<circle clip-path=\"url(#clip002)\" cx=\"1582.45\" cy=\"534.537\" r=\"14\" fill=\"#ff6347\" fill-rule=\"evenodd\" fill-opacity=\"1\" stroke=\"#000000\" stroke-opacity=\"1\" stroke-width=\"3.2\"/>\n",
       "<circle clip-path=\"url(#clip002)\" cx=\"718.742\" cy=\"1048.17\" r=\"14\" fill=\"#ff6347\" fill-rule=\"evenodd\" fill-opacity=\"1\" stroke=\"#000000\" stroke-opacity=\"1\" stroke-width=\"3.2\"/>\n",
       "<circle clip-path=\"url(#clip002)\" cx=\"2080.85\" cy=\"232.711\" r=\"14\" fill=\"#ff6347\" fill-rule=\"evenodd\" fill-opacity=\"1\" stroke=\"#000000\" stroke-opacity=\"1\" stroke-width=\"3.2\"/>\n",
       "<circle clip-path=\"url(#clip002)\" cx=\"952.246\" cy=\"853.175\" r=\"14\" fill=\"#ff6347\" fill-rule=\"evenodd\" fill-opacity=\"1\" stroke=\"#000000\" stroke-opacity=\"1\" stroke-width=\"3.2\"/>\n",
       "<circle clip-path=\"url(#clip002)\" cx=\"1390.76\" cy=\"658.328\" r=\"14\" fill=\"#ff6347\" fill-rule=\"evenodd\" fill-opacity=\"1\" stroke=\"#000000\" stroke-opacity=\"1\" stroke-width=\"3.2\"/>\n",
       "<circle clip-path=\"url(#clip002)\" cx=\"1346.57\" cy=\"615.042\" r=\"14\" fill=\"#ff6347\" fill-rule=\"evenodd\" fill-opacity=\"1\" stroke=\"#000000\" stroke-opacity=\"1\" stroke-width=\"3.2\"/>\n",
       "<circle clip-path=\"url(#clip002)\" cx=\"2048.79\" cy=\"210.249\" r=\"14\" fill=\"#ff6347\" fill-rule=\"evenodd\" fill-opacity=\"1\" stroke=\"#000000\" stroke-opacity=\"1\" stroke-width=\"3.2\"/>\n",
       "<circle clip-path=\"url(#clip002)\" cx=\"1448.49\" cy=\"609.964\" r=\"14\" fill=\"#ff6347\" fill-rule=\"evenodd\" fill-opacity=\"1\" stroke=\"#000000\" stroke-opacity=\"1\" stroke-width=\"3.2\"/>\n",
       "<circle clip-path=\"url(#clip002)\" cx=\"1438.13\" cy=\"653.479\" r=\"14\" fill=\"#ff6347\" fill-rule=\"evenodd\" fill-opacity=\"1\" stroke=\"#000000\" stroke-opacity=\"1\" stroke-width=\"3.2\"/>\n",
       "<circle clip-path=\"url(#clip002)\" cx=\"1182.43\" cy=\"748.215\" r=\"14\" fill=\"#ff6347\" fill-rule=\"evenodd\" fill-opacity=\"1\" stroke=\"#000000\" stroke-opacity=\"1\" stroke-width=\"3.2\"/>\n",
       "<circle clip-path=\"url(#clip002)\" cx=\"1334.55\" cy=\"743.102\" r=\"14\" fill=\"#ff6347\" fill-rule=\"evenodd\" fill-opacity=\"1\" stroke=\"#000000\" stroke-opacity=\"1\" stroke-width=\"3.2\"/>\n",
       "<circle clip-path=\"url(#clip002)\" cx=\"1542.27\" cy=\"555.61\" r=\"14\" fill=\"#ff6347\" fill-rule=\"evenodd\" fill-opacity=\"1\" stroke=\"#000000\" stroke-opacity=\"1\" stroke-width=\"3.2\"/>\n",
       "<circle clip-path=\"url(#clip002)\" cx=\"1091.87\" cy=\"788.126\" r=\"14\" fill=\"#ff6347\" fill-rule=\"evenodd\" fill-opacity=\"1\" stroke=\"#000000\" stroke-opacity=\"1\" stroke-width=\"3.2\"/>\n",
       "<circle clip-path=\"url(#clip002)\" cx=\"272.658\" cy=\"1384.24\" r=\"14\" fill=\"#ff6347\" fill-rule=\"evenodd\" fill-opacity=\"1\" stroke=\"#000000\" stroke-opacity=\"1\" stroke-width=\"3.2\"/>\n",
       "<circle clip-path=\"url(#clip002)\" cx=\"932.629\" cy=\"912.435\" r=\"14\" fill=\"#ff6347\" fill-rule=\"evenodd\" fill-opacity=\"1\" stroke=\"#000000\" stroke-opacity=\"1\" stroke-width=\"3.2\"/>\n",
       "<circle clip-path=\"url(#clip002)\" cx=\"487.409\" cy=\"1138.9\" r=\"14\" fill=\"#ff6347\" fill-rule=\"evenodd\" fill-opacity=\"1\" stroke=\"#000000\" stroke-opacity=\"1\" stroke-width=\"3.2\"/>\n",
       "<circle clip-path=\"url(#clip002)\" cx=\"1347.18\" cy=\"693.769\" r=\"14\" fill=\"#ff6347\" fill-rule=\"evenodd\" fill-opacity=\"1\" stroke=\"#000000\" stroke-opacity=\"1\" stroke-width=\"3.2\"/>\n",
       "<circle clip-path=\"url(#clip002)\" cx=\"2206.59\" cy=\"113.792\" r=\"14\" fill=\"#ff6347\" fill-rule=\"evenodd\" fill-opacity=\"1\" stroke=\"#000000\" stroke-opacity=\"1\" stroke-width=\"3.2\"/>\n",
       "<circle clip-path=\"url(#clip002)\" cx=\"516.539\" cy=\"1105.57\" r=\"14\" fill=\"#ff6347\" fill-rule=\"evenodd\" fill-opacity=\"1\" stroke=\"#000000\" stroke-opacity=\"1\" stroke-width=\"3.2\"/>\n",
       "<circle clip-path=\"url(#clip002)\" cx=\"1088.55\" cy=\"739.789\" r=\"14\" fill=\"#ff6347\" fill-rule=\"evenodd\" fill-opacity=\"1\" stroke=\"#000000\" stroke-opacity=\"1\" stroke-width=\"3.2\"/>\n",
       "<circle clip-path=\"url(#clip002)\" cx=\"1673.92\" cy=\"484.16\" r=\"14\" fill=\"#ff6347\" fill-rule=\"evenodd\" fill-opacity=\"1\" stroke=\"#000000\" stroke-opacity=\"1\" stroke-width=\"3.2\"/>\n",
       "<circle clip-path=\"url(#clip002)\" cx=\"405.493\" cy=\"1132.67\" r=\"14\" fill=\"#ff6347\" fill-rule=\"evenodd\" fill-opacity=\"1\" stroke=\"#000000\" stroke-opacity=\"1\" stroke-width=\"3.2\"/>\n",
       "<circle clip-path=\"url(#clip002)\" cx=\"805.906\" cy=\"977.822\" r=\"14\" fill=\"#ff6347\" fill-rule=\"evenodd\" fill-opacity=\"1\" stroke=\"#000000\" stroke-opacity=\"1\" stroke-width=\"3.2\"/>\n",
       "<circle clip-path=\"url(#clip002)\" cx=\"1504.16\" cy=\"601.155\" r=\"14\" fill=\"#ff6347\" fill-rule=\"evenodd\" fill-opacity=\"1\" stroke=\"#000000\" stroke-opacity=\"1\" stroke-width=\"3.2\"/>\n",
       "<circle clip-path=\"url(#clip002)\" cx=\"700.262\" cy=\"1048.16\" r=\"14\" fill=\"#ff6347\" fill-rule=\"evenodd\" fill-opacity=\"1\" stroke=\"#000000\" stroke-opacity=\"1\" stroke-width=\"3.2\"/>\n",
       "<circle clip-path=\"url(#clip002)\" cx=\"262.601\" cy=\"1308.53\" r=\"14\" fill=\"#ff6347\" fill-rule=\"evenodd\" fill-opacity=\"1\" stroke=\"#000000\" stroke-opacity=\"1\" stroke-width=\"3.2\"/>\n",
       "<circle clip-path=\"url(#clip002)\" cx=\"907.369\" cy=\"1002.41\" r=\"14\" fill=\"#ff6347\" fill-rule=\"evenodd\" fill-opacity=\"1\" stroke=\"#000000\" stroke-opacity=\"1\" stroke-width=\"3.2\"/>\n",
       "<circle clip-path=\"url(#clip002)\" cx=\"1860.34\" cy=\"453.458\" r=\"14\" fill=\"#ff6347\" fill-rule=\"evenodd\" fill-opacity=\"1\" stroke=\"#000000\" stroke-opacity=\"1\" stroke-width=\"3.2\"/>\n",
       "<circle clip-path=\"url(#clip002)\" cx=\"1072.08\" cy=\"870.534\" r=\"14\" fill=\"#ff6347\" fill-rule=\"evenodd\" fill-opacity=\"1\" stroke=\"#000000\" stroke-opacity=\"1\" stroke-width=\"3.2\"/>\n",
       "<circle clip-path=\"url(#clip002)\" cx=\"1602.09\" cy=\"577.374\" r=\"14\" fill=\"#ff6347\" fill-rule=\"evenodd\" fill-opacity=\"1\" stroke=\"#000000\" stroke-opacity=\"1\" stroke-width=\"3.2\"/>\n",
       "<circle clip-path=\"url(#clip002)\" cx=\"298.815\" cy=\"1329.67\" r=\"14\" fill=\"#ff6347\" fill-rule=\"evenodd\" fill-opacity=\"1\" stroke=\"#000000\" stroke-opacity=\"1\" stroke-width=\"3.2\"/>\n",
       "<circle clip-path=\"url(#clip002)\" cx=\"540.32\" cy=\"1149.13\" r=\"14\" fill=\"#ff6347\" fill-rule=\"evenodd\" fill-opacity=\"1\" stroke=\"#000000\" stroke-opacity=\"1\" stroke-width=\"3.2\"/>\n",
       "<circle clip-path=\"url(#clip002)\" cx=\"1718.64\" cy=\"513.09\" r=\"14\" fill=\"#ff6347\" fill-rule=\"evenodd\" fill-opacity=\"1\" stroke=\"#000000\" stroke-opacity=\"1\" stroke-width=\"3.2\"/>\n",
       "<circle clip-path=\"url(#clip002)\" cx=\"1498.2\" cy=\"616.49\" r=\"14\" fill=\"#ff6347\" fill-rule=\"evenodd\" fill-opacity=\"1\" stroke=\"#000000\" stroke-opacity=\"1\" stroke-width=\"3.2\"/>\n",
       "<circle clip-path=\"url(#clip002)\" cx=\"387.346\" cy=\"1170.47\" r=\"14\" fill=\"#ff6347\" fill-rule=\"evenodd\" fill-opacity=\"1\" stroke=\"#000000\" stroke-opacity=\"1\" stroke-width=\"3.2\"/>\n",
       "<circle clip-path=\"url(#clip002)\" cx=\"2291.83\" cy=\"141.955\" r=\"14\" fill=\"#ff6347\" fill-rule=\"evenodd\" fill-opacity=\"1\" stroke=\"#000000\" stroke-opacity=\"1\" stroke-width=\"3.2\"/>\n",
       "<circle clip-path=\"url(#clip002)\" cx=\"1346.29\" cy=\"606.725\" r=\"14\" fill=\"#ff6347\" fill-rule=\"evenodd\" fill-opacity=\"1\" stroke=\"#000000\" stroke-opacity=\"1\" stroke-width=\"3.2\"/>\n",
       "<circle clip-path=\"url(#clip002)\" cx=\"746.447\" cy=\"968.033\" r=\"14\" fill=\"#ff6347\" fill-rule=\"evenodd\" fill-opacity=\"1\" stroke=\"#000000\" stroke-opacity=\"1\" stroke-width=\"3.2\"/>\n",
       "<circle clip-path=\"url(#clip002)\" cx=\"541.238\" cy=\"1076.1\" r=\"14\" fill=\"#ff6347\" fill-rule=\"evenodd\" fill-opacity=\"1\" stroke=\"#000000\" stroke-opacity=\"1\" stroke-width=\"3.2\"/>\n",
       "<circle clip-path=\"url(#clip002)\" cx=\"2003.57\" cy=\"195.541\" r=\"14\" fill=\"#ff6347\" fill-rule=\"evenodd\" fill-opacity=\"1\" stroke=\"#000000\" stroke-opacity=\"1\" stroke-width=\"3.2\"/>\n",
       "<circle clip-path=\"url(#clip002)\" cx=\"1813.77\" cy=\"399.767\" r=\"14\" fill=\"#ff6347\" fill-rule=\"evenodd\" fill-opacity=\"1\" stroke=\"#000000\" stroke-opacity=\"1\" stroke-width=\"3.2\"/>\n",
       "<circle clip-path=\"url(#clip002)\" cx=\"1044.37\" cy=\"890.081\" r=\"14\" fill=\"#ff6347\" fill-rule=\"evenodd\" fill-opacity=\"1\" stroke=\"#000000\" stroke-opacity=\"1\" stroke-width=\"3.2\"/>\n",
       "<circle clip-path=\"url(#clip002)\" cx=\"2020.46\" cy=\"252.378\" r=\"14\" fill=\"#ff6347\" fill-rule=\"evenodd\" fill-opacity=\"1\" stroke=\"#000000\" stroke-opacity=\"1\" stroke-width=\"3.2\"/>\n",
       "<circle clip-path=\"url(#clip002)\" cx=\"509.168\" cy=\"1130.69\" r=\"14\" fill=\"#ff6347\" fill-rule=\"evenodd\" fill-opacity=\"1\" stroke=\"#000000\" stroke-opacity=\"1\" stroke-width=\"3.2\"/>\n",
       "<circle clip-path=\"url(#clip002)\" cx=\"2188.51\" cy=\"86.1857\" r=\"14\" fill=\"#ff6347\" fill-rule=\"evenodd\" fill-opacity=\"1\" stroke=\"#000000\" stroke-opacity=\"1\" stroke-width=\"3.2\"/>\n",
       "<circle clip-path=\"url(#clip002)\" cx=\"1131.32\" cy=\"796.779\" r=\"14\" fill=\"#ff6347\" fill-rule=\"evenodd\" fill-opacity=\"1\" stroke=\"#000000\" stroke-opacity=\"1\" stroke-width=\"3.2\"/>\n",
       "<circle clip-path=\"url(#clip002)\" cx=\"646.832\" cy=\"1145.97\" r=\"14\" fill=\"#ff6347\" fill-rule=\"evenodd\" fill-opacity=\"1\" stroke=\"#000000\" stroke-opacity=\"1\" stroke-width=\"3.2\"/>\n",
       "<circle clip-path=\"url(#clip002)\" cx=\"1811.97\" cy=\"416.541\" r=\"14\" fill=\"#ff6347\" fill-rule=\"evenodd\" fill-opacity=\"1\" stroke=\"#000000\" stroke-opacity=\"1\" stroke-width=\"3.2\"/>\n",
       "<polyline clip-path=\"url(#clip002)\" style=\"stroke:#56b4e9; stroke-width:8; stroke-opacity:1; fill:none\" points=\"\n",
       "  1340.08,671.595 1178.42,766.126 287.256,1287.24 604.324,1101.83 2209.6,163.143 2239.5,145.659 871.743,945.458 612.444,1097.08 2205.5,165.544 1444.45,610.567 \n",
       "  2165.77,188.772 577.923,1117.27 1114.96,803.236 1481.24,589.054 993.445,874.292 1034.36,850.368 1462.07,600.263 1773.06,418.412 787.882,994.495 1278.34,707.699 \n",
       "  1501.16,577.407 681.835,1056.51 592.552,1108.71 1266.35,714.711 2231.06,150.596 419.294,1210.03 750.863,1016.14 1175.13,768.05 1810.92,396.272 827.051,971.591 \n",
       "  544.492,1136.82 260.955,1302.62 1415.45,627.524 486.406,1170.78 760.165,1010.7 1723.02,447.673 1613.69,511.606 540.626,1139.08 1970.07,303.211 1508.2,573.287 \n",
       "  791.187,992.563 1952.7,313.365 1904.51,341.546 680.595,1057.23 1397.81,637.841 344.53,1253.75 2107.59,222.794 1491.52,583.043 2286.46,118.199 1193.13,757.525 \n",
       "  1161.68,775.918 450.943,1191.52 1582.45,529.869 718.742,1034.93 2080.85,238.43 952.246,898.383 1390.76,641.964 1346.57,667.799 2048.79,257.176 1448.49,608.206 \n",
       "  1438.13,614.264 1182.43,763.782 1334.55,674.831 1542.27,553.365 1091.87,816.737 272.658,1295.77 932.629,909.855 487.409,1170.2 1347.18,667.445 2206.59,164.904 \n",
       "  516.539,1153.16 1088.55,818.681 1673.92,476.386 405.493,1218.1 805.906,983.956 1504.16,575.65 700.262,1045.73 262.601,1301.65 907.369,924.625 1860.34,367.376 \n",
       "  1072.08,828.31 1602.09,518.387 298.815,1280.48 540.32,1139.26 1718.64,450.233 1498.2,579.136 387.346,1228.71 2291.83,115.06 1346.29,667.965 746.447,1018.72 \n",
       "  541.238,1138.72 2003.57,283.62 1813.77,394.606 1044.37,844.512 2020.46,273.745 509.168,1157.47 2188.51,175.478 1131.32,793.67 646.832,1076.97 1811.97,395.659 \n",
       "  \n",
       "  \"/>\n",
       "<path clip-path=\"url(#clip000)\" d=\"\n",
       "M272.028 312.204 L714.851 312.204 L714.851 130.764 L272.028 130.764  Z\n",
       "  \" fill=\"#000000\" fill-rule=\"evenodd\" fill-opacity=\"0\"/>\n",
       "<polyline clip-path=\"url(#clip000)\" style=\"stroke:#000000; stroke-width:4; stroke-opacity:0; fill:none\" points=\"\n",
       "  272.028,312.204 714.851,312.204 714.851,130.764 272.028,130.764 272.028,312.204 \n",
       "  \"/>\n",
       "<circle clip-path=\"url(#clip000)\" cx=\"380.028\" cy=\"191.244\" r=\"23\" fill=\"#ff6347\" fill-rule=\"evenodd\" fill-opacity=\"1\" stroke=\"#000000\" stroke-opacity=\"1\" stroke-width=\"5.12\"/>\n",
       "<path clip-path=\"url(#clip000)\" d=\"M 0 0 M479.862 178.571 L473.519 195.77 L486.227 195.77 L479.862 178.571 M477.223 173.964 L482.524 173.964 L495.695 208.524 L490.834 208.524 L487.686 199.658 L472.107 199.658 L468.959 208.524 L464.028 208.524 L477.223 173.964 Z\" fill=\"#000000\" fill-rule=\"evenodd\" fill-opacity=\"1\" /><path clip-path=\"url(#clip000)\" d=\"M 0 0 M517.986 183.594 L517.986 187.575 Q516.181 186.58 514.352 186.094 Q512.547 185.584 510.695 185.584 Q506.551 185.584 504.26 188.223 Q501.968 190.839 501.968 195.584 Q501.968 200.33 504.26 202.969 Q506.551 205.584 510.695 205.584 Q512.547 205.584 514.352 205.098 Q516.181 204.589 517.986 203.594 L517.986 207.529 Q516.204 208.362 514.283 208.779 Q512.385 209.195 510.232 209.195 Q504.375 209.195 500.926 205.515 Q497.477 201.834 497.477 195.584 Q497.477 189.242 500.95 185.608 Q504.445 181.973 510.51 181.973 Q512.477 181.973 514.352 182.39 Q516.227 182.783 517.986 183.594 Z\" fill=\"#000000\" fill-rule=\"evenodd\" fill-opacity=\"1\" /><path clip-path=\"url(#clip000)\" d=\"M 0 0 M526.667 175.237 L526.667 182.598 L535.44 182.598 L535.44 185.908 L526.667 185.908 L526.667 199.982 Q526.667 203.154 527.523 204.057 Q528.403 204.959 531.065 204.959 L535.44 204.959 L535.44 208.524 L531.065 208.524 Q526.135 208.524 524.26 206.695 Q522.385 204.844 522.385 199.982 L522.385 185.908 L519.26 185.908 L519.26 182.598 L522.385 182.598 L522.385 175.237 L526.667 175.237 Z\" fill=\"#000000\" fill-rule=\"evenodd\" fill-opacity=\"1\" /><path clip-path=\"url(#clip000)\" d=\"M 0 0 M539.468 198.293 L539.468 182.598 L543.727 182.598 L543.727 198.131 Q543.727 201.811 545.162 203.663 Q546.597 205.492 549.468 205.492 Q552.917 205.492 554.908 203.293 Q556.921 201.094 556.921 197.297 L556.921 182.598 L561.181 182.598 L561.181 208.524 L556.921 208.524 L556.921 204.543 Q555.371 206.904 553.31 208.061 Q551.273 209.195 548.565 209.195 Q544.097 209.195 541.783 206.418 Q539.468 203.64 539.468 198.293 M550.185 181.973 L550.185 181.973 Z\" fill=\"#000000\" fill-rule=\"evenodd\" fill-opacity=\"1\" /><path clip-path=\"url(#clip000)\" d=\"M 0 0 M577.431 195.492 Q572.269 195.492 570.278 196.672 Q568.287 197.853 568.287 200.7 Q568.287 202.969 569.769 204.311 Q571.273 205.631 573.843 205.631 Q577.384 205.631 579.514 203.131 Q581.667 200.607 581.667 196.441 L581.667 195.492 L577.431 195.492 M585.926 193.733 L585.926 208.524 L581.667 208.524 L581.667 204.589 Q580.208 206.95 578.032 208.084 Q575.857 209.195 572.708 209.195 Q568.727 209.195 566.366 206.973 Q564.028 204.728 564.028 200.978 Q564.028 196.603 566.945 194.381 Q569.884 192.158 575.694 192.158 L581.667 192.158 L581.667 191.742 Q581.667 188.802 579.722 187.205 Q577.801 185.584 574.306 185.584 Q572.083 185.584 569.977 186.117 Q567.87 186.649 565.926 187.714 L565.926 183.779 Q568.264 182.876 570.463 182.436 Q572.662 181.973 574.745 181.973 Q580.37 181.973 583.148 184.89 Q585.926 187.807 585.926 193.733 Z\" fill=\"#000000\" fill-rule=\"evenodd\" fill-opacity=\"1\" /><path clip-path=\"url(#clip000)\" d=\"M 0 0 M590.393 172.506 L594.653 172.506 L594.653 208.524 L590.393 208.524 L590.393 172.506 Z\" fill=\"#000000\" fill-rule=\"evenodd\" fill-opacity=\"1\" /><polyline clip-path=\"url(#clip000)\" style=\"stroke:#56b4e9; stroke-width:4; stroke-opacity:1; fill:none\" points=\"\n",
       "  296.028,251.724 440.028,251.724 \n",
       "  \"/>\n",
       "<path clip-path=\"url(#clip000)\" d=\"M 0 0 M468.704 238.287 L468.704 251.273 L474.584 251.273 Q477.848 251.273 479.63 249.583 Q481.413 247.893 481.413 244.768 Q481.413 241.666 479.63 239.976 Q477.848 238.287 474.584 238.287 L468.704 238.287 M464.028 234.444 L474.584 234.444 Q480.394 234.444 483.357 237.083 Q486.343 239.699 486.343 244.768 Q486.343 249.884 483.357 252.5 Q480.394 255.115 474.584 255.115 L468.704 255.115 L468.704 269.004 L464.028 269.004 L464.028 234.444 Z\" fill=\"#000000\" fill-rule=\"evenodd\" fill-opacity=\"1\" /><path clip-path=\"url(#clip000)\" d=\"M 0 0 M505 247.06 Q504.283 246.643 503.426 246.458 Q502.593 246.25 501.575 246.25 Q497.963 246.25 496.019 248.611 Q494.098 250.949 494.098 255.347 L494.098 269.004 L489.815 269.004 L489.815 243.078 L494.098 243.078 L494.098 247.106 Q495.44 244.745 497.593 243.611 Q499.746 242.453 502.824 242.453 Q503.264 242.453 503.797 242.523 Q504.329 242.569 504.977 242.685 L505 247.06 Z\" fill=\"#000000\" fill-rule=\"evenodd\" fill-opacity=\"1\" /><path clip-path=\"url(#clip000)\" d=\"M 0 0 M530.602 254.976 L530.602 257.06 L511.019 257.06 Q511.297 261.458 513.658 263.773 Q516.042 266.064 520.278 266.064 Q522.732 266.064 525.023 265.462 Q527.338 264.861 529.607 263.657 L529.607 267.685 Q527.315 268.657 524.908 269.166 Q522.5 269.675 520.023 269.675 Q513.82 269.675 510.186 266.064 Q506.574 262.453 506.574 256.296 Q506.574 249.93 510 246.203 Q513.449 242.453 519.283 242.453 Q524.514 242.453 527.547 245.833 Q530.602 249.189 530.602 254.976 M526.343 253.726 Q526.297 250.231 524.375 248.148 Q522.477 246.064 519.329 246.064 Q515.764 246.064 513.611 248.078 Q511.482 250.092 511.158 253.75 L526.343 253.726 Z\" fill=\"#000000\" fill-rule=\"evenodd\" fill-opacity=\"1\" /><path clip-path=\"url(#clip000)\" d=\"M 0 0 M552.13 247.013 L552.13 232.986 L556.389 232.986 L556.389 269.004 L552.13 269.004 L552.13 265.115 Q550.787 267.43 548.727 268.564 Q546.69 269.675 543.82 269.675 Q539.121 269.675 536.158 265.925 Q533.218 262.175 533.218 256.064 Q533.218 249.953 536.158 246.203 Q539.121 242.453 543.82 242.453 Q546.69 242.453 548.727 243.588 Q550.787 244.699 552.13 247.013 M537.616 256.064 Q537.616 260.763 539.537 263.449 Q541.482 266.111 544.861 266.111 Q548.241 266.111 550.185 263.449 Q552.13 260.763 552.13 256.064 Q552.13 251.365 550.185 248.703 Q548.241 246.018 544.861 246.018 Q541.482 246.018 539.537 248.703 Q537.616 251.365 537.616 256.064 Z\" fill=\"#000000\" fill-rule=\"evenodd\" fill-opacity=\"1\" /><path clip-path=\"url(#clip000)\" d=\"M 0 0 M560.857 243.078 L565.116 243.078 L565.116 269.004 L560.857 269.004 L560.857 243.078 M560.857 232.986 L565.116 232.986 L565.116 238.379 L560.857 238.379 L560.857 232.986 Z\" fill=\"#000000\" fill-rule=\"evenodd\" fill-opacity=\"1\" /><path clip-path=\"url(#clip000)\" d=\"M 0 0 M588.241 244.074 L588.241 248.055 Q586.435 247.06 584.606 246.574 Q582.801 246.064 580.949 246.064 Q576.806 246.064 574.514 248.703 Q572.222 251.319 572.222 256.064 Q572.222 260.81 574.514 263.449 Q576.806 266.064 580.949 266.064 Q582.801 266.064 584.606 265.578 Q586.435 265.069 588.241 264.074 L588.241 268.009 Q586.458 268.842 584.537 269.259 Q582.639 269.675 580.486 269.675 Q574.63 269.675 571.181 265.995 Q567.732 262.314 567.732 256.064 Q567.732 249.722 571.204 246.088 Q574.699 242.453 580.764 242.453 Q582.731 242.453 584.606 242.87 Q586.481 243.263 588.241 244.074 Z\" fill=\"#000000\" fill-rule=\"evenodd\" fill-opacity=\"1\" /><path clip-path=\"url(#clip000)\" d=\"M 0 0 M596.921 235.717 L596.921 243.078 L605.694 243.078 L605.694 246.388 L596.921 246.388 L596.921 260.462 Q596.921 263.634 597.778 264.537 Q598.657 265.439 601.319 265.439 L605.694 265.439 L605.694 269.004 L601.319 269.004 Q596.389 269.004 594.514 267.175 Q592.639 265.324 592.639 260.462 L592.639 246.388 L589.514 246.388 L589.514 243.078 L592.639 243.078 L592.639 235.717 L596.921 235.717 Z\" fill=\"#000000\" fill-rule=\"evenodd\" fill-opacity=\"1\" /><path clip-path=\"url(#clip000)\" d=\"M 0 0 M610.162 243.078 L614.421 243.078 L614.421 269.004 L610.162 269.004 L610.162 243.078 M610.162 232.986 L614.421 232.986 L614.421 238.379 L610.162 238.379 L610.162 232.986 Z\" fill=\"#000000\" fill-rule=\"evenodd\" fill-opacity=\"1\" /><path clip-path=\"url(#clip000)\" d=\"M 0 0 M628.935 246.064 Q625.509 246.064 623.518 248.75 Q621.528 251.412 621.528 256.064 Q621.528 260.717 623.495 263.402 Q625.486 266.064 628.935 266.064 Q632.338 266.064 634.328 263.379 Q636.319 260.694 636.319 256.064 Q636.319 251.458 634.328 248.773 Q632.338 246.064 628.935 246.064 M628.935 242.453 Q634.49 242.453 637.662 246.064 Q640.833 249.675 640.833 256.064 Q640.833 262.43 637.662 266.064 Q634.49 269.675 628.935 269.675 Q623.356 269.675 620.185 266.064 Q617.037 262.43 617.037 256.064 Q617.037 249.675 620.185 246.064 Q623.356 242.453 628.935 242.453 Z\" fill=\"#000000\" fill-rule=\"evenodd\" fill-opacity=\"1\" /><path clip-path=\"url(#clip000)\" d=\"M 0 0 M666.851 253.356 L666.851 269.004 L662.592 269.004 L662.592 253.495 Q662.592 249.814 661.157 247.986 Q659.722 246.157 656.851 246.157 Q653.402 246.157 651.412 248.356 Q649.421 250.555 649.421 254.351 L649.421 269.004 L645.139 269.004 L645.139 243.078 L649.421 243.078 L649.421 247.106 Q650.949 244.768 653.009 243.611 Q655.092 242.453 657.801 242.453 Q662.268 242.453 664.56 245.231 Q666.851 247.986 666.851 253.356 Z\" fill=\"#000000\" fill-rule=\"evenodd\" fill-opacity=\"1\" /></svg>\n"
      ]
     },
     "execution_count": 7,
     "metadata": {},
     "output_type": "execute_result"
    }
   ],
   "source": [
    "# Plotting for regressions\n",
    "## Start with the scatter plot of X and Y\n",
    "scatter(dat[!,:X], dat[!,:Y], color=\"tomato\", framestyle=:box, xlabel=\"X\", ylabel=\"Y\", label=\"Actual\",\n",
    "foreground_color_legend=nothing, background_color_legend=nothing, legend= :topleft)\n",
    "## Plot the prediction using the predict function\n",
    "plot!(dat[!,:X], predict(ols), linewidth=2, color=\"#56b4e9\", label=\"Prediction\")"
   ]
  },
  {
   "cell_type": "code",
   "execution_count": 8,
   "metadata": {
    "scrolled": false
   },
   "outputs": [
    {
     "data": {
      "text/plain": [
       "BenchmarkTools.Trial: \n",
       "  memory estimate:  22.58 KiB\n",
       "  allocs estimate:  176\n",
       "  --------------\n",
       "  minimum time:     26.800 μs (0.00% GC)\n",
       "  median time:      31.492 μs (0.00% GC)\n",
       "  mean time:        36.366 μs (8.12% GC)\n",
       "  maximum time:     3.149 ms (98.28% GC)\n",
       "  --------------\n",
       "  samples:          10000\n",
       "  evals/sample:     1"
      ]
     },
     "execution_count": 8,
     "metadata": {},
     "output_type": "execute_result"
    }
   ],
   "source": [
    "# Benchmarking the OLS results from Julia's lm\n",
    "ols_bench = @benchmark ols = lm($@formula(Y ~ X), $dat)"
   ]
  },
  {
   "cell_type": "markdown",
   "metadata": {},
   "source": [
    "### Methods "
   ]
  },
  {
   "cell_type": "markdown",
   "metadata": {},
   "source": [
    "`Julia` provides a wide range of functions to extract useful things from the regressions.\n",
    "Many of these methods in the package have names similar to the ones in `R`. "
   ]
  },
  {
   "cell_type": "code",
   "execution_count": 9,
   "metadata": {},
   "outputs": [
    {
     "name": "stdout",
     "output_type": "stream",
     "text": [
      "coef(ols) = [1.88442, 3.00623]\n",
      "r2(ols) = 0.9856058705451252\n",
      "stderror(ols) = [0.203464, 0.0366987]\n",
      "vcov(ols) = [0.0413976 -0.00637894; -0.00637894 0.00134679]\n",
      "deviance(ols) = 109.60769402521824\n"
     ]
    }
   ],
   "source": [
    "# Extract the coefficients using\n",
    "@show coef(ols)\n",
    "# Extract the R square using \n",
    "@show r2(ols)\n",
    "# Extract the standard errors of the coefficients using\n",
    "@show stderror(ols)\n",
    "# Extract the variance covariance matrix using\n",
    "@show vcov(ols)\n",
    "# Extract the weighted residual sum of squares using\n",
    "@show deviance(ols); # Deviance calculates the weighted RSS for lm models"
   ]
  },
  {
   "cell_type": "code",
   "execution_count": 10,
   "metadata": {},
   "outputs": [
    {
     "data": {
      "text/html": [
       "<table class=\"data-frame\"><thead><tr><th></th><th>Y</th><th>yhat</th><th>residual</th></tr><tr><th></th><th>Float64</th><th>Float64</th><th>Float64</th></tr></thead><tbody><p>6 rows × 3 columns</p><tr><th>1</th><td>18.2427</td><td>17.9131</td><td>0.329557</td></tr><tr><th>2</th><td>15.5952</td><td>15.5336</td><td>0.0616195</td></tr><tr><th>3</th><td>1.89852</td><td>2.41613</td><td>-0.517606</td></tr><tr><th>4</th><td>6.16757</td><td>7.08319</td><td>-0.915619</td></tr><tr><th>5</th><td>29.4563</td><td>30.712</td><td>-1.25569</td></tr><tr><th>6</th><td>31.894</td><td>31.1521</td><td>0.741971</td></tr></tbody></table>"
      ],
      "text/latex": [
       "\\begin{tabular}{r|ccc}\n",
       "\t& Y & yhat & residual\\\\\n",
       "\t\\hline\n",
       "\t& Float64 & Float64 & Float64\\\\\n",
       "\t\\hline\n",
       "\t1 & 18.2427 & 17.9131 & 0.329557 \\\\\n",
       "\t2 & 15.5952 & 15.5336 & 0.0616195 \\\\\n",
       "\t3 & 1.89852 & 2.41613 & -0.517606 \\\\\n",
       "\t4 & 6.16757 & 7.08319 & -0.915619 \\\\\n",
       "\t5 & 29.4563 & 30.712 & -1.25569 \\\\\n",
       "\t6 & 31.894 & 31.1521 & 0.741971 \\\\\n",
       "\\end{tabular}\n"
      ],
      "text/plain": [
       "6×3 DataFrame\n",
       "│ Row │ Y       │ yhat    │ residual  │\n",
       "│     │ \u001b[90mFloat64\u001b[39m │ \u001b[90mFloat64\u001b[39m │ \u001b[90mFloat64\u001b[39m   │\n",
       "├─────┼─────────┼─────────┼───────────┤\n",
       "│ 1   │ 18.2427 │ 17.9131 │ 0.329557  │\n",
       "│ 2   │ 15.5952 │ 15.5336 │ 0.0616195 │\n",
       "│ 3   │ 1.89852 │ 2.41613 │ -0.517606 │\n",
       "│ 4   │ 6.16757 │ 7.08319 │ -0.915619 │\n",
       "│ 5   │ 29.4563 │ 30.712  │ -1.25569  │\n",
       "│ 6   │ 31.894  │ 31.1521 │ 0.741971  │"
      ]
     },
     "execution_count": 10,
     "metadata": {},
     "output_type": "execute_result"
    }
   ],
   "source": [
    "# Predict the dependent variable Y using\n",
    "yhat = predict(ols)\n",
    "# Get the residuals using\n",
    "ϵ = residuals(ols)\n",
    "ols_results = DataFrame(Y = y, yhat = yhat, residual = ϵ)\n",
    "# You can view the first 6 results using \n",
    "first(ols_results, 6) ## similar to head() in R"
   ]
  },
  {
   "cell_type": "markdown",
   "metadata": {},
   "source": [
    "## Dummy Variable Regression"
   ]
  },
  {
   "cell_type": "code",
   "execution_count": 11,
   "metadata": {
    "scrolled": true
   },
   "outputs": [
    {
     "data": {
      "text/html": [
       "<table class=\"data-frame\"><thead><tr><th></th><th>age</th><th>education</th><th>code</th></tr><tr><th></th><th>Int64</th><th>Cat…</th><th>Int64</th></tr></thead><tbody><p>6 rows × 3 columns</p><tr><th>1</th><td>21</td><td>college</td><td>2</td></tr><tr><th>2</th><td>62</td><td>school</td><td>1</td></tr><tr><th>3</th><td>54</td><td>none</td><td>0</td></tr><tr><th>4</th><td>49</td><td>school</td><td>1</td></tr><tr><th>5</th><td>52</td><td>college</td><td>2</td></tr><tr><th>6</th><td>38</td><td>none</td><td>0</td></tr></tbody></table>"
      ],
      "text/latex": [
       "\\begin{tabular}{r|ccc}\n",
       "\t& age & education & code\\\\\n",
       "\t\\hline\n",
       "\t& Int64 & Cat… & Int64\\\\\n",
       "\t\\hline\n",
       "\t1 & 21 & college & 2 \\\\\n",
       "\t2 & 62 & school & 1 \\\\\n",
       "\t3 & 54 & none & 0 \\\\\n",
       "\t4 & 49 & school & 1 \\\\\n",
       "\t5 & 52 & college & 2 \\\\\n",
       "\t6 & 38 & none & 0 \\\\\n",
       "\\end{tabular}\n"
      ],
      "text/plain": [
       "6×3 DataFrame\n",
       "│ Row │ age   │ education │ code  │\n",
       "│     │ \u001b[90mInt64\u001b[39m │ \u001b[90mCat…\u001b[39m      │ \u001b[90mInt64\u001b[39m │\n",
       "├─────┼───────┼───────────┼───────┤\n",
       "│ 1   │ 21    │ college   │ 2     │\n",
       "│ 2   │ 62    │ school    │ 1     │\n",
       "│ 3   │ 54    │ none      │ 0     │\n",
       "│ 4   │ 49    │ school    │ 1     │\n",
       "│ 5   │ 52    │ college   │ 2     │\n",
       "│ 6   │ 38    │ none      │ 0     │"
      ]
     },
     "execution_count": 11,
     "metadata": {},
     "output_type": "execute_result"
    }
   ],
   "source": [
    "## Suppose you have this data\n",
    "age = [21, 62, 54, 49, 52, 38]\n",
    "education = categorical([\"college\", \"school\", \"none\", \"school\", \"college\", \"none\"])\n",
    "education_code = [2, 1, 0, 1, 2, 0]\n",
    "people = DataFrame(age = age, education = education, code = education_code)"
   ]
  },
  {
   "cell_type": "code",
   "execution_count": 12,
   "metadata": {
    "scrolled": true
   },
   "outputs": [
    {
     "name": "stdout",
     "output_type": "stream",
     "text": [
      "typeof(people[!, :age]) = Array{Int64,1}\n",
      "typeof(people[!, :education]) = CategoricalArray{String,1,UInt32,String,CategoricalValue{String,UInt32},Union{}}\n",
      "typeof(people[!, :code]) = Array{Int64,1}\n",
      "levels(people[!, :education]) = [\"college\", \"none\", \"school\"]\n"
     ]
    }
   ],
   "source": [
    "@show typeof(people[!,:age])\n",
    "@show typeof(people[!,:education])\n",
    "@show typeof(people[!,:code])\n",
    "# You can access the levels of the categorical variable as\n",
    "@show levels(people[!,:education]);"
   ]
  },
  {
   "cell_type": "code",
   "execution_count": 13,
   "metadata": {},
   "outputs": [
    {
     "data": {
      "text/plain": [
       "StatsModels.TableRegressionModel{LinearModel{GLM.LmResp{Array{Float64,1}},GLM.DensePredChol{Float64,LinearAlgebra.Cholesky{Float64,Array{Float64,2}}}},Array{Float64,2}}\n",
       "\n",
       "age ~ 1 + education\n",
       "\n",
       "Coefficients:\n",
       "─────────────────────────────────────────────────────────────────────────────────\n",
       "                   Estimate  Std. Error   t value  Pr(>|t|)  Lower 95%  Upper 95%\n",
       "─────────────────────────────────────────────────────────────────────────────────\n",
       "(Intercept)            36.5     10.7471  3.39627     0.0426    2.29795     70.702\n",
       "education: none         9.5     15.1987  0.625054    0.5763  -38.869       57.869\n",
       "education: school      19.0     15.1987  1.25011     0.2999  -29.369       67.369\n",
       "─────────────────────────────────────────────────────────────────────────────────"
      ]
     },
     "execution_count": 13,
     "metadata": {},
     "output_type": "execute_result"
    }
   ],
   "source": [
    "# Run a dummy variable regression\n",
    "dummyreg = lm(@formula(age ~ education), people)"
   ]
  },
  {
   "cell_type": "code",
   "execution_count": 14,
   "metadata": {
    "scrolled": true
   },
   "outputs": [
    {
     "data": {
      "text/plain": [
       "BenchmarkTools.Trial: \n",
       "  memory estimate:  22.59 KiB\n",
       "  allocs estimate:  305\n",
       "  --------------\n",
       "  minimum time:     41.458 μs (0.00% GC)\n",
       "  median time:      49.599 μs (0.00% GC)\n",
       "  mean time:        55.203 μs (8.57% GC)\n",
       "  maximum time:     5.045 ms (98.19% GC)\n",
       "  --------------\n",
       "  samples:          10000\n",
       "  evals/sample:     1"
      ]
     },
     "execution_count": 14,
     "metadata": {},
     "output_type": "execute_result"
    }
   ],
   "source": [
    "# Benchmark the results\n",
    "dummyreg_bench = @benchmark dummy = lm($@formula(age ~ education), $people)"
   ]
  },
  {
   "cell_type": "code",
   "execution_count": 15,
   "metadata": {
    "scrolled": false
   },
   "outputs": [
    {
     "data": {
      "text/plain": [
       "StatsModels.TableRegressionModel{LinearModel{GLM.LmResp{Array{Float64,1}},GLM.DensePredChol{Float64,LinearAlgebra.Cholesky{Float64,Array{Float64,2}}}},Array{Float64,2}}\n",
       "\n",
       "age ~ 1 + code\n",
       "\n",
       "Coefficients:\n",
       "────────────────────────────────────────────────────────────────────────────\n",
       "             Estimate  Std. Error    t value  Pr(>|t|)  Lower 95%  Upper 95%\n",
       "────────────────────────────────────────────────────────────────────────────\n",
       "(Intercept)     50.75    10.0195    5.06512     0.0072    22.9314    78.5686\n",
       "code            -4.75     7.76108  -0.612028    0.5736   -26.2982    16.7982\n",
       "────────────────────────────────────────────────────────────────────────────"
      ]
     },
     "execution_count": 15,
     "metadata": {},
     "output_type": "execute_result"
    }
   ],
   "source": [
    "# Suppose you want to work with the third column instead of the second one. The third column is of type Int64.\n",
    "# The obvious regression would go wrong because Julia would understand that this is an integer explanatory variable.\n",
    "notadummy = lm(@formula(age ~ code), people)"
   ]
  },
  {
   "cell_type": "code",
   "execution_count": 16,
   "metadata": {
    "scrolled": true
   },
   "outputs": [
    {
     "name": "stdout",
     "output_type": "stream",
     "text": [
      "levels(people.code) = [0, 1, 2]\n",
      "levels(people.code) = [2, 0, 1]\n"
     ]
    },
    {
     "data": {
      "text/plain": [
       "StatsModels.TableRegressionModel{LinearModel{GLM.LmResp{Array{Float64,1}},GLM.DensePredChol{Float64,LinearAlgebra.Cholesky{Float64,Array{Float64,2}}}},Array{Float64,2}}\n",
       "\n",
       "age ~ 1 + code\n",
       "\n",
       "Coefficients:\n",
       "───────────────────────────────────────────────────────────────────────────\n",
       "             Estimate  Std. Error   t value  Pr(>|t|)  Lower 95%  Upper 95%\n",
       "───────────────────────────────────────────────────────────────────────────\n",
       "(Intercept)      36.5     10.7471  3.39627     0.0426    2.29795     70.702\n",
       "code: 0           9.5     15.1987  0.625054    0.5763  -38.869       57.869\n",
       "code: 1          19.0     15.1987  1.25011     0.2999  -29.369       67.369\n",
       "───────────────────────────────────────────────────────────────────────────"
      ]
     },
     "execution_count": 16,
     "metadata": {},
     "output_type": "execute_result"
    }
   ],
   "source": [
    "# You will have to convert it to a categorical variable before running the regression\n",
    "people.code = categorical(people.code)\n",
    "@show levels(people.code) # Notice that the ordering of levels are different than what we had for education\n",
    "# We can fix this by re-ordering the levels to make them the same as we had for education\n",
    "levels!(people.code, [2, 0, 1])\n",
    "@show levels(people.code)\n",
    "yesadummy = lm(@formula(age ~ code), people)"
   ]
  },
  {
   "cell_type": "code",
   "execution_count": 17,
   "metadata": {},
   "outputs": [
    {
     "name": "stdout",
     "output_type": "stream",
     "text": [
      "coef(dummyreg) == coef(yesadummy) = true\n",
      "coef(dummyreg) ≈ coef(yesadummy) = true\n"
     ]
    }
   ],
   "source": [
    "# We can check if the coefficients are the same using ==\n",
    "@show coef(dummyreg) == coef(yesadummy)\n",
    "# or, using \\approx (is generally used to take into account the rounding error -- which will not be the case here.)\n",
    "@show coef(dummyreg) ≈ coef(yesadummy);"
   ]
  }
 ],
 "metadata": {
  "kernelspec": {
   "display_name": "Julia 1.0.5",
   "language": "julia",
   "name": "julia-1.0"
  },
  "language_info": {
   "file_extension": ".jl",
   "mimetype": "application/julia",
   "name": "julia",
   "version": "1.0.5"
  }
 },
 "nbformat": 4,
 "nbformat_minor": 2
}
