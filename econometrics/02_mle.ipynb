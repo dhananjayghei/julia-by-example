{
 "cells": [
  {
   "cell_type": "markdown",
   "metadata": {},
   "source": [
    "# Maximum Likelihood Estimation\n",
    "This notebook assumes you know a little bit about maximum likelihood estimation. It demonstrates how to do MLE in `Julia`.\n",
    "\n",
    "## Goal\n",
    "1. Simulate data and run the maximum likelihood estimation procedure.\n",
    "2. Test the results using ordinary least squares."
   ]
  },
  {
   "cell_type": "code",
   "execution_count": 1,
   "metadata": {},
   "outputs": [
    {
     "data": {
      "text/plain": [
       "v\"1.0.5\""
      ]
     },
     "execution_count": 1,
     "metadata": {},
     "output_type": "execute_result"
    }
   ],
   "source": [
    "VERSION"
   ]
  },
  {
   "cell_type": "code",
   "execution_count": 2,
   "metadata": {},
   "outputs": [],
   "source": [
    "# Loading the required libraries\n",
    "using Distributions # to generate random numbers from distributions\n",
    "using Random # to set the seed for reproducibility\n",
    "using Optim # for optimization routines \n",
    "using DataFrames # to provide DataFrame input to the lm function\n",
    "using GLM # for ordinary least squares"
   ]
  },
  {
   "cell_type": "code",
   "execution_count": 3,
   "metadata": {},
   "outputs": [],
   "source": [
    "# Set seed\n",
    "rng = MersenneTwister(1234);"
   ]
  },
  {
   "cell_type": "code",
   "execution_count": 12,
   "metadata": {
    "scrolled": false
   },
   "outputs": [
    {
     "data": {
      "text/plain": [
       "1000-element Array{Float64,1}:\n",
       " 31.086354268466064 \n",
       " 13.043152756069253 \n",
       " 37.29743911326745  \n",
       " 34.98854885421249  \n",
       "  6.46759187522878  \n",
       " 59.65096072357595  \n",
       " 46.70962694632156  \n",
       " 11.239034236922034 \n",
       "  3.0022492658235107\n",
       " 25.15012309016758  \n",
       " 31.358447608709515 \n",
       " 33.271288503213555 \n",
       " 59.84850876217838  \n",
       "  ⋮                 \n",
       "  9.357428468345715 \n",
       " 15.061593500283127 \n",
       "  6.203767989866787 \n",
       " 12.842100075209215 \n",
       " 52.2075437339323   \n",
       " 12.178972455462027 \n",
       "  2.3222961772438997\n",
       " 24.250379220534484 \n",
       " 38.48735686535129  \n",
       " 44.10078376117888  \n",
       "  9.565476505742422 \n",
       " 61.88612353982749  "
      ]
     },
     "execution_count": 12,
     "metadata": {},
     "output_type": "execute_result"
    }
   ],
   "source": [
    "# Intercept\n",
    "x1 = ones(1000)\n",
    "# X variable\n",
    "x2 = rand(Uniform(0, 10), 1000)\n",
    "# Binding them together\n",
    "x = hcat(x1, x2)\n",
    "# True parameter values\n",
    "true_theta = [2, 4, 6] # error variance = 2, intercept = 4, slope = 6\n",
    "# Generating the dependent variables\n",
    "y = x * true_theta[2:3] + sqrt(true_theta[1]) * randn(1000)\n",
    "# View the first 6 \n",
    "y[1:6]"
   ]
  },
  {
   "cell_type": "code",
   "execution_count": 47,
   "metadata": {},
   "outputs": [
    {
     "data": {
      "text/plain": [
       "likelihood (generic function with 1 method)"
      ]
     },
     "execution_count": 47,
     "metadata": {},
     "output_type": "execute_result"
    }
   ],
   "source": [
    "# Writing down the likelihood function\n",
    "function likelihood(theta, y, x)\n",
    "   β = theta[2:length(theta)]\n",
    "   σ = theta[1]\n",
    "    if σ^2 <= 0 \n",
    "        return missing\n",
    "    else\n",
    "       n = size(x)[1]\n",
    "       e = y - x * β\n",
    "        logL = ((-n/2)*log(2*π)) - ((n/2)*log(σ^2))  - e'*e/(2*σ^2)\n",
    "        return -logL\n",
    "    end\n",
    "end"
   ]
  },
  {
   "cell_type": "markdown",
   "metadata": {},
   "source": [
    "## Gradient free approach\n",
    "### Using the Nelder Mead algorithm"
   ]
  },
  {
   "cell_type": "code",
   "execution_count": 63,
   "metadata": {
    "scrolled": true
   },
   "outputs": [
    {
     "name": "stdout",
     "output_type": "stream",
     "text": [
      "nmopt.minimizer = [1.37542, 3.8673, 6.02626]\n",
      "nmopt.minimum = 1737.7011389796992\n",
      "summary(nmopt) = \"Nelder-Mead\"\n",
      "Optim.converged(nmopt) = true\n"
     ]
    },
    {
     "data": {
      "text/plain": [
       "true"
      ]
     },
     "execution_count": 63,
     "metadata": {},
     "output_type": "execute_result"
    }
   ],
   "source": [
    "## Optimize over theta, give the starting values, and the name of the algorithm\n",
    "nmopt = optimize(z -> likelihood(z, y, x), [1., 1., 1.], NelderMead())\n",
    "### ----------------- Methods to extract useful information from the results\n",
    "## Extract the minimizers using\n",
    "@show nmopt.minimizer ## alternatively Optim.minimizer(nmopt)\n",
    "## Extract the minimum value using \n",
    "@show nmopt.minimum ## alternatively, Optim.minimum(nmopt)\n",
    "## Extract the summary using\n",
    "@show summary(nmopt) ## alternatively, Optim.summary(nmopt)\n",
    "## Extract the convergence status using\n",
    "@show Optim.converged(nmopt)\n",
    "## Similar methods exist for other algorithms."
   ]
  },
  {
   "cell_type": "markdown",
   "metadata": {},
   "source": [
    "## Test against OLS\n",
    "Here, we run a simple OLS regression to check if the results from our MLE optimization give us the same answer as the ordinary leasy squares."
   ]
  },
  {
   "cell_type": "code",
   "execution_count": 65,
   "metadata": {},
   "outputs": [
    {
     "data": {
      "text/plain": [
       "StatsModels.TableRegressionModel{LinearModel{GLM.LmResp{Array{Float64,1}},GLM.DensePredChol{Float64,LinearAlgebra.Cholesky{Float64,Array{Float64,2}}}},Array{Float64,2}}\n",
       "\n",
       "Y ~ 1 + X2\n",
       "\n",
       "Coefficients:\n",
       "───────────────────────────────────────────────────────────────────────────\n",
       "             Estimate  Std. Error   t value  Pr(>|t|)  Lower 95%  Upper 95%\n",
       "───────────────────────────────────────────────────────────────────────────\n",
       "(Intercept)   3.86731   0.0850756   45.4573    <1e-99    3.70036    4.03425\n",
       "X2            6.02626   0.0151822  396.93      <1e-99    5.99647    6.05605\n",
       "───────────────────────────────────────────────────────────────────────────"
      ]
     },
     "execution_count": 65,
     "metadata": {},
     "output_type": "execute_result"
    }
   ],
   "source": [
    "# Get a DataFrame\n",
    "dat = DataFrame(Y=y, X2=x2)\n",
    "# Run OLS\n",
    "ols = lm(@formula(Y ~ X2), dat)"
   ]
  },
  {
   "cell_type": "code",
   "execution_count": 79,
   "metadata": {},
   "outputs": [
    {
     "name": "stdout",
     "output_type": "stream",
     "text": [
      "search: \u001b[0m\u001b[1mr\u001b[22m\u001b[0m\u001b[1mo\u001b[22m\u001b[0m\u001b[1mu\u001b[22m\u001b[0m\u001b[1mn\u001b[22m\u001b[0m\u001b[1md\u001b[22m\u001b[0m\u001b[1mi\u001b[22m\u001b[0m\u001b[1mn\u001b[22m\u001b[0m\u001b[1mg\u001b[22m \u001b[0m\u001b[1mR\u001b[22m\u001b[0m\u001b[1mo\u001b[22m\u001b[0m\u001b[1mu\u001b[22m\u001b[0m\u001b[1mn\u001b[22m\u001b[0m\u001b[1md\u001b[22m\u001b[0m\u001b[1mi\u001b[22m\u001b[0m\u001b[1mn\u001b[22m\u001b[0m\u001b[1mg\u001b[22mMode set\u001b[0m\u001b[1mr\u001b[22m\u001b[0m\u001b[1mo\u001b[22m\u001b[0m\u001b[1mu\u001b[22m\u001b[0m\u001b[1mn\u001b[22m\u001b[0m\u001b[1md\u001b[22m\u001b[0m\u001b[1mi\u001b[22m\u001b[0m\u001b[1mn\u001b[22m\u001b[0m\u001b[1mg\u001b[22m g\u001b[0m\u001b[1mr\u001b[22m\u001b[0m\u001b[1mo\u001b[22m\u001b[0m\u001b[1mu\u001b[22mpi\u001b[0m\u001b[1mn\u001b[22m\u001b[0m\u001b[1md\u001b[22m\u001b[0m\u001b[1mi\u001b[22mces \u001b[0m\u001b[1mR\u001b[22m\u001b[0m\u001b[1mo\u001b[22m\u001b[0m\u001b[1mu\u001b[22m\u001b[0m\u001b[1mn\u001b[22m\u001b[0m\u001b[1md\u001b[22mNearestT\u001b[0m\u001b[1mi\u001b[22mesUp\n",
      "\n"
     ]
    },
    {
     "data": {
      "text/latex": [
       "\\begin{verbatim}\n",
       "rounding(T)\n",
       "\\end{verbatim}\n",
       "Get the current floating point rounding mode for type \\texttt{T}, controlling the rounding of basic arithmetic functions (\\href{@ref}{\\texttt{+}}, \\href{@ref}{\\texttt{-}}, \\href{@ref}{\\texttt{*}}, \\href{@ref}{\\texttt{/}} and \\href{@ref}{\\texttt{sqrt}}) and type conversion.\n",
       "\n",
       "See \\href{@ref}{\\texttt{RoundingMode}} for available modes.\n",
       "\n"
      ],
      "text/markdown": [
       "```\n",
       "rounding(T)\n",
       "```\n",
       "\n",
       "Get the current floating point rounding mode for type `T`, controlling the rounding of basic arithmetic functions ([`+`](@ref), [`-`](@ref), [`*`](@ref), [`/`](@ref) and [`sqrt`](@ref)) and type conversion.\n",
       "\n",
       "See [`RoundingMode`](@ref) for available modes.\n"
      ],
      "text/plain": [
       "\u001b[36m  rounding(T)\u001b[39m\n",
       "\n",
       "  Get the current floating point rounding mode for type \u001b[36mT\u001b[39m, controlling the\n",
       "  rounding of basic arithmetic functions (\u001b[36m+\u001b[39m, \u001b[36m-\u001b[39m, \u001b[36m*\u001b[39m, \u001b[36m/\u001b[39m and \u001b[36msqrt\u001b[39m) and type\n",
       "  conversion.\n",
       "\n",
       "  See \u001b[36mRoundingMode\u001b[39m for available modes."
      ]
     },
     "execution_count": 79,
     "metadata": {},
     "output_type": "execute_result"
    }
   ],
   "source": [
    "?rounding"
   ]
  },
  {
   "cell_type": "code",
   "execution_count": 70,
   "metadata": {},
   "outputs": [
    {
     "name": "stdout",
     "output_type": "stream",
     "text": [
      "nmopt.minimizer[2:3] = [3.8673, 6.02626]\n",
      "coef(ols) = [3.86731, 6.02626]\n"
     ]
    },
    {
     "data": {
      "text/plain": [
       "2-element Array{Float64,1}:\n",
       " 3.8673072523507  \n",
       " 6.026261119981097"
      ]
     },
     "execution_count": 70,
     "metadata": {},
     "output_type": "execute_result"
    }
   ],
   "source": [
    "@show nmopt.minimizer[2:3]\n",
    "@show coef(ols)"
   ]
  },
  {
   "cell_type": "code",
   "execution_count": 81,
   "metadata": {},
   "outputs": [
    {
     "ename": "MethodError",
     "evalue": "MethodError: no method matching round(::Array{Float64,1})\nClosest candidates are:\n  round(!Matched::Type{BigInt}, !Matched::BigFloat) at mpfr.jl:258\n  round(!Matched::Float64, !Matched::RoundingMode{:Nearest}) at float.jl:368\n  round(!Matched::Float64, !Matched::RoundingMode{:Up}) at float.jl:366\n  ...",
     "output_type": "error",
     "traceback": [
      "MethodError: no method matching round(::Array{Float64,1})\nClosest candidates are:\n  round(!Matched::Type{BigInt}, !Matched::BigFloat) at mpfr.jl:258\n  round(!Matched::Float64, !Matched::RoundingMode{:Nearest}) at float.jl:368\n  round(!Matched::Float64, !Matched::RoundingMode{:Up}) at float.jl:366\n  ...",
      "",
      "Stacktrace:",
      " [1] top-level scope at In[81]:1"
     ]
    }
   ],
   "source": [
    "round(coef(ols))"
   ]
  },
  {
   "cell_type": "code",
   "execution_count": 80,
   "metadata": {},
   "outputs": [
    {
     "ename": "MethodError",
     "evalue": "MethodError: no method matching round(::Array{Float64,1}; digits=4)\nClosest candidates are:\n  round(!Matched::Type{BigInt}, !Matched::BigFloat) at mpfr.jl:258 got unsupported keyword argument \"digits\"\n  round(!Matched::Float64, !Matched::RoundingMode{:Nearest}) at float.jl:368 got unsupported keyword argument \"digits\"\n  round(!Matched::Float64, !Matched::RoundingMode{:Up}) at float.jl:366 got unsupported keyword argument \"digits\"\n  ...",
     "output_type": "error",
     "traceback": [
      "MethodError: no method matching round(::Array{Float64,1}; digits=4)\nClosest candidates are:\n  round(!Matched::Type{BigInt}, !Matched::BigFloat) at mpfr.jl:258 got unsupported keyword argument \"digits\"\n  round(!Matched::Float64, !Matched::RoundingMode{:Nearest}) at float.jl:368 got unsupported keyword argument \"digits\"\n  round(!Matched::Float64, !Matched::RoundingMode{:Up}) at float.jl:366 got unsupported keyword argument \"digits\"\n  ...",
      "",
      "Stacktrace:",
      " [1] top-level scope at In[80]:1"
     ]
    }
   ],
   "source": [
    "round(coef(ols), digits=4) == round(nmopt.minimizer[2:3], digits=4)"
   ]
  },
  {
   "cell_type": "code",
   "execution_count": 31,
   "metadata": {},
   "outputs": [],
   "source": [
    "using GLM"
   ]
  },
  {
   "cell_type": "code",
   "execution_count": 34,
   "metadata": {},
   "outputs": [],
   "source": [
    "using DataFrames"
   ]
  },
  {
   "cell_type": "code",
   "execution_count": 46,
   "metadata": {},
   "outputs": [
    {
     "data": {
      "text/plain": [
       "1000-element Array{Float64,1}:\n",
       " 31.086354268466064 \n",
       " 13.043152756069253 \n",
       " 37.29743911326745  \n",
       " 34.98854885421249  \n",
       "  6.46759187522878  \n",
       " 59.65096072357595  \n",
       " 46.70962694632156  \n",
       " 11.239034236922034 \n",
       "  3.0022492658235107\n",
       " 25.15012309016758  \n",
       " 31.358447608709515 \n",
       " 33.271288503213555 \n",
       " 59.84850876217838  \n",
       "  ⋮                 \n",
       "  9.357428468345715 \n",
       " 15.061593500283127 \n",
       "  6.203767989866787 \n",
       " 12.842100075209215 \n",
       " 52.2075437339323   \n",
       " 12.178972455462027 \n",
       "  2.3222961772438997\n",
       " 24.250379220534484 \n",
       " 38.48735686535129  \n",
       " 44.10078376117888  \n",
       "  9.565476505742422 \n",
       " 61.88612353982749  "
      ]
     },
     "execution_count": 46,
     "metadata": {},
     "output_type": "execute_result"
    }
   ],
   "source": [
    "convert(Vector{Float64}, x2)\n",
    "convert(Vector{Float64}, y)"
   ]
  },
  {
   "cell_type": "code",
   "execution_count": null,
   "metadata": {},
   "outputs": [],
   "source": []
  }
 ],
 "metadata": {
  "kernelspec": {
   "display_name": "Julia 1.0.5",
   "language": "julia",
   "name": "julia-1.0"
  },
  "language_info": {
   "file_extension": ".jl",
   "mimetype": "application/julia",
   "name": "julia",
   "version": "1.0.5"
  }
 },
 "nbformat": 4,
 "nbformat_minor": 2
}
